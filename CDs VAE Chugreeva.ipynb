{
  "cells": [
    {
      "cell_type": "markdown",
      "metadata": {
        "id": "view-in-github",
        "colab_type": "text"
      },
      "source": [
        "<a href=\"https://colab.research.google.com/github/GalinaChugreeva/CDs-VAE/blob/main/CDs%20VAE%20Chugreeva.ipynb\" target=\"_parent\"><img src=\"https://colab.research.google.com/assets/colab-badge.svg\" alt=\"Open In Colab\"/></a>"
      ]
    },
    {
      "cell_type": "code",
      "execution_count": 1,
      "id": "1f668483",
      "metadata": {
        "id": "1f668483"
      },
      "outputs": [],
      "source": [
        "import torch\n",
        "import numpy as np\n",
        "import torch.nn as nn\n",
        "import pandas as pd\n",
        "import re\n",
        "import os\n",
        "import sklearn\n",
        "from sklearn.model_selection import train_test_split\n",
        "from sklearn.metrics import mean_squared_error\n",
        "from sklearn.metrics import mean_absolute_error\n",
        "from sklearn.metrics import median_absolute_error\n",
        "from sklearn.metrics import r2_score\n",
        "import torchvision.transforms as transforms\n",
        "from torchvision.io import read_image\n",
        "from torch.utils.data import Dataset\n",
        "from sklearn.model_selection import KFold\n",
        "import random\n",
        "import torch.optim as optim\n",
        "import torch.nn.functional as F\n",
        "import matplotlib.pyplot as plt\n",
        "import os\n",
        "from torch.utils.data import DataLoader\n",
        "from itertools import chain\n",
        "import pandas as pd\n",
        "import glob\n",
        "import matplotlib.pyplot as plt\n",
        "from tqdm import trange\n",
        "import shutil"
      ]
    },
    {
      "cell_type": "markdown",
      "id": "0e9e5209",
      "metadata": {
        "id": "0e9e5209"
      },
      "source": [
        "# I. Обучение сети на реальных данных"
      ]
    },
    {
      "cell_type": "markdown",
      "id": "bf840cc2",
      "metadata": {
        "id": "bf840cc2"
      },
      "source": [
        "## 1.1. Датасет"
      ]
    },
    {
      "cell_type": "code",
      "execution_count": 2,
      "id": "00b765ad",
      "metadata": {
        "id": "00b765ad"
      },
      "outputs": [],
      "source": [
        "class CDs_2D_dataset(Dataset):\n",
        "    def __init__(self, annotations_file, spec_dir):\n",
        "      '''annotations_file - the file which contains lables of the samples included in training/validation/test sets'''\n",
        "      self.spec_labels = pd.read_csv(annotations_file, sep=',', decimal=\",\").iloc[:,1:] # labels (concentrations for 4 ions) for all the samples from annotation file (Y_ions.csv)\n",
        "      self.spec_number = pd.read_csv(annotations_file, sep=',', decimal=\",\").iloc[:,0] # numbers for all the samples from annotation file (Y_ions.csv)\n",
        "      self.spec_dir = spec_dir # folder where csv files are located\n",
        "\n",
        "\n",
        "    def __len__(self):\n",
        "        return len(self.spec_labels)#length of the dataset\n",
        "\n",
        "    def __getitem__(self, idx):\n",
        "        label = self.spec_labels.iloc[idx] # get the label of the sample via sample's index\n",
        "\n",
        "        sp = np.array(pd.read_csv(self.spec_dir + str(self.spec_number[idx])+'_CorrectionData'+'.csv', skiprows=38, sep=';', decimal=\",\").iloc[6:-8,125:325].T, dtype='float32')/4544.595 # get the EEM of the sample via sample's index\n",
        "\n",
        "        sp[sp<0]=0 # here we zero negative values of intensities\n",
        "        spec = torch.from_numpy(sp).unsqueeze(0) # add dimension for channels of cnn\n",
        "\n",
        "\n",
        "        return spec, torch.from_numpy(np.array(label, dtype='float32')) # return spectrum and corresponding labels\n"
      ]
    },
    {
      "cell_type": "markdown",
      "id": "fcf54f28",
      "metadata": {
        "id": "fcf54f28"
      },
      "source": [
        "## 1.2. Архитектура нейросети"
      ]
    },
    {
      "cell_type": "code",
      "execution_count": 3,
      "id": "cdb88074",
      "metadata": {
        "id": "cdb88074"
      },
      "outputs": [],
      "source": [
        "#2D CNN class (basic)\n",
        "class twoD_CNN(nn.Module):\n",
        "\n",
        "    def __init__(self):\n",
        "\n",
        "        super().__init__()\n",
        "\n",
        "        self.conv1 = nn.Conv2d(in_channels=1, out_channels=6, kernel_size=5)\n",
        "        self.pool = nn.MaxPool2d(2, 2)\n",
        "        self.conv2 = nn.Conv2d(in_channels=6, out_channels=16, kernel_size=5)\n",
        "\n",
        "        self.fc1 = nn.Linear(16 * 94 * 7, 160)\n",
        "        self.fc2 = nn.Linear(160, 5)\n",
        "\n",
        "    def forward(self, x):\n",
        "\n",
        "        x = self.pool(F.relu(self.conv1(x)))\n",
        "        x = F.relu(self.conv2(x))\n",
        "        x = x.view(x.size(0), -1)\n",
        "        x = F.relu(self.fc1(x))\n",
        "        x = self.fc2(x)\n",
        "        return x"
      ]
    },
    {
      "cell_type": "markdown",
      "id": "c0c5da85",
      "metadata": {
        "id": "c0c5da85"
      },
      "source": [
        "## 1.3. Обновление весов"
      ]
    },
    {
      "cell_type": "code",
      "execution_count": 4,
      "id": "37ed9a9f",
      "metadata": {
        "id": "37ed9a9f"
      },
      "outputs": [],
      "source": [
        "def reset_weights(m):\n",
        "    for layer in m.children():\n",
        "        if hasattr(layer, 'reset_parameters'):\n",
        "            print(f'Reset trainable parameters of layer = {layer}')\n",
        "            layer.reset_parameters()"
      ]
    },
    {
      "cell_type": "markdown",
      "id": "4f4794fc",
      "metadata": {
        "id": "4f4794fc"
      },
      "source": [
        "## 1.4. Запись ответов"
      ]
    },
    {
      "cell_type": "code",
      "execution_count": 5,
      "id": "8eb3bdab",
      "metadata": {
        "id": "8eb3bdab"
      },
      "outputs": [],
      "source": [
        "def write_predictions(N, model_name, split_path,dataloader, dset):\n",
        "\n",
        "    checkpoint = torch.load(split_path + 'model'+model_name+'.pth')\n",
        "    N.load_state_dict(checkpoint['model_state_dict'])\n",
        "\n",
        "    optimizer.load_state_dict(checkpoint['optimizer_state_dict'])\n",
        "\n",
        "    last_best_epoch = checkpoint['epoch']\n",
        "    loss = checkpoint['loss']\n",
        "    N.eval()\n",
        "\n",
        "    y_ae = np.zeros((1,5))\n",
        "    y_ae_true = np.zeros((1,5))\n",
        "\n",
        "    for specs, labels in dataloader:\n",
        "        outputs = N(specs)\n",
        "        outputs[outputs<0]=0\n",
        "        ae = outputs.detach().numpy()\n",
        "        ae_true = labels.detach().numpy()\n",
        "        y_ae = np.concatenate((y_ae, ae), axis=0)\n",
        "        y_ae_true = np.concatenate((y_ae_true, ae_true), axis=0)\n",
        "\n",
        "    a = ['Cu','Ni','Cr','NO3', 'pH']\n",
        "\n",
        "    pd.DataFrame(y_ae).to_csv(split_path + 'Y_out_'+'_'+dset+'.csv',sep=',', header = a)\n",
        "    pd.DataFrame(y_ae_true).to_csv(split_path + 'Y_true_'+'_'+dset+'.csv',sep=',', header = a)"
      ]
    },
    {
      "cell_type": "markdown",
      "id": "e466bb9d",
      "metadata": {
        "id": "e466bb9d"
      },
      "source": [
        "## 1.5. Кросс-валидация"
      ]
    },
    {
      "cell_type": "code",
      "source": [
        "!wget -qN https://github.com/GalinaChugreeva/CDs-VAE/raw/main/CD_HM_dataset.zip\n",
        "!unzip -qn CD_HM_dataset.zip"
      ],
      "metadata": {
        "id": "uy1tfnRFa6Mn"
      },
      "id": "uy1tfnRFa6Mn",
      "execution_count": 6,
      "outputs": []
    },
    {
      "cell_type": "code",
      "execution_count": 8,
      "id": "46b1fc12",
      "metadata": {
        "id": "46b1fc12"
      },
      "outputs": [],
      "source": [
        "gen_path = ''\n",
        "\n",
        "case_name = '2D_CNN'\n",
        "cnn_2d_path = case_name+'/'\n",
        "\n",
        "Y = pd.read_csv(gen_path+'CD_HM_dataset/'+'Y_ions'+'.csv', sep=',')\n",
        "\n",
        "\n",
        "k_folds = [[42,12],[612,45],[72,172]]\n",
        "\n",
        "fold = k_folds[0]\n",
        "Y_trn, Y_30 = train_test_split(Y, test_size=0.3, random_state=fold[0])\n",
        "Y_vld, Y_tst = train_test_split(Y_30, test_size = 0.3333, random_state=fold[1])\n",
        "\n",
        "for fold in k_folds:\n",
        "    split_path = gen_path+cnn_2d_path+'split_'+ str(fold[0])+'_'+str(fold[1])+ '/'\n",
        "    os.makedirs(split_path, exist_ok=True)\n",
        "\n",
        "    Y_trn, Y_30 = train_test_split(Y, test_size=0.3, random_state=fold[0])\n",
        "    Y_vld, Y_tst1 = train_test_split(Y_30, test_size = 0.3333, random_state=fold[1])\n",
        "\n",
        "    a = ['sample_number','Cu','Ni','Cr','NO3', 'pH']\n",
        "\n",
        "    pd.DataFrame(Y_trn).to_csv(split_path + 'Y_trn'+'.csv',sep=',', index=False, header = a)\n",
        "    pd.DataFrame(Y_vld).to_csv(split_path + 'Y_vld'+'.csv',sep=',', index=False, header = a)\n",
        "    pd.DataFrame(Y_tst).to_csv(split_path + 'Y_tst'+'.csv',sep=',', index=False, header = a)"
      ]
    },
    {
      "cell_type": "markdown",
      "id": "eecd87c0",
      "metadata": {
        "id": "eecd87c0"
      },
      "source": [
        "## 1.6. Обучение"
      ]
    },
    {
      "cell_type": "code",
      "execution_count": 9,
      "id": "0fdad0dc",
      "metadata": {
        "id": "0fdad0dc",
        "outputId": "98d64d5a-de86-4522-a4bc-771b2914ee8b",
        "colab": {
          "base_uri": "https://localhost:8080/",
          "height": 478
        }
      },
      "outputs": [
        {
          "output_type": "stream",
          "name": "stdout",
          "text": [
            "Using device: cuda\n",
            "Reset trainable parameters of layer = Conv2d(1, 6, kernel_size=(5, 5), stride=(1, 1))\n",
            "Reset trainable parameters of layer = Conv2d(6, 16, kernel_size=(5, 5), stride=(1, 1))\n",
            "Reset trainable parameters of layer = Linear(in_features=10528, out_features=160, bias=True)\n",
            "Reset trainable parameters of layer = Linear(in_features=160, out_features=5, bias=True)\n"
          ]
        },
        {
          "output_type": "error",
          "ename": "KeyboardInterrupt",
          "evalue": "ignored",
          "traceback": [
            "\u001b[0;31m---------------------------------------------------------------------------\u001b[0m",
            "\u001b[0;31mKeyboardInterrupt\u001b[0m                         Traceback (most recent call last)",
            "\u001b[0;32m<ipython-input-9-27406c14e805>\u001b[0m in \u001b[0;36m<cell line: 10>\u001b[0;34m()\u001b[0m\n\u001b[1;32m     77\u001b[0m \u001b[0;34m\u001b[0m\u001b[0m\n\u001b[1;32m     78\u001b[0m               \u001b[0;32mfor\u001b[0m \u001b[0mep\u001b[0m \u001b[0;32min\u001b[0m \u001b[0mrange\u001b[0m\u001b[0;34m(\u001b[0m\u001b[0mepoch_step\u001b[0m\u001b[0;34m,\u001b[0m \u001b[0mtest_stop\u001b[0m\u001b[0;34m)\u001b[0m\u001b[0;34m:\u001b[0m\u001b[0;34m\u001b[0m\u001b[0;34m\u001b[0m\u001b[0m\n\u001b[0;32m---> 79\u001b[0;31m                   \u001b[0;32mfor\u001b[0m \u001b[0m_\u001b[0m\u001b[0;34m,\u001b[0m \u001b[0mdata\u001b[0m \u001b[0;32min\u001b[0m \u001b[0menumerate\u001b[0m\u001b[0;34m(\u001b[0m\u001b[0mtrain_dataloader\u001b[0m\u001b[0;34m,\u001b[0m \u001b[0;36m0\u001b[0m\u001b[0;34m)\u001b[0m\u001b[0;34m:\u001b[0m\u001b[0;34m\u001b[0m\u001b[0;34m\u001b[0m\u001b[0m\n\u001b[0m\u001b[1;32m     80\u001b[0m                       \u001b[0minputs\u001b[0m\u001b[0;34m,\u001b[0m \u001b[0mlabels\u001b[0m \u001b[0;34m=\u001b[0m \u001b[0mdata\u001b[0m\u001b[0;34m\u001b[0m\u001b[0;34m\u001b[0m\u001b[0m\n\u001b[1;32m     81\u001b[0m                       \u001b[0moptimizer\u001b[0m\u001b[0;34m.\u001b[0m\u001b[0mzero_grad\u001b[0m\u001b[0;34m(\u001b[0m\u001b[0;34m)\u001b[0m\u001b[0;34m\u001b[0m\u001b[0;34m\u001b[0m\u001b[0m\n",
            "\u001b[0;32m/usr/local/lib/python3.10/dist-packages/torch/utils/data/dataloader.py\u001b[0m in \u001b[0;36m__next__\u001b[0;34m(self)\u001b[0m\n\u001b[1;32m    628\u001b[0m                 \u001b[0;31m# TODO(https://github.com/pytorch/pytorch/issues/76750)\u001b[0m\u001b[0;34m\u001b[0m\u001b[0;34m\u001b[0m\u001b[0m\n\u001b[1;32m    629\u001b[0m                 \u001b[0mself\u001b[0m\u001b[0;34m.\u001b[0m\u001b[0m_reset\u001b[0m\u001b[0;34m(\u001b[0m\u001b[0;34m)\u001b[0m  \u001b[0;31m# type: ignore[call-arg]\u001b[0m\u001b[0;34m\u001b[0m\u001b[0;34m\u001b[0m\u001b[0m\n\u001b[0;32m--> 630\u001b[0;31m             \u001b[0mdata\u001b[0m \u001b[0;34m=\u001b[0m \u001b[0mself\u001b[0m\u001b[0;34m.\u001b[0m\u001b[0m_next_data\u001b[0m\u001b[0;34m(\u001b[0m\u001b[0;34m)\u001b[0m\u001b[0;34m\u001b[0m\u001b[0;34m\u001b[0m\u001b[0m\n\u001b[0m\u001b[1;32m    631\u001b[0m             \u001b[0mself\u001b[0m\u001b[0;34m.\u001b[0m\u001b[0m_num_yielded\u001b[0m \u001b[0;34m+=\u001b[0m \u001b[0;36m1\u001b[0m\u001b[0;34m\u001b[0m\u001b[0;34m\u001b[0m\u001b[0m\n\u001b[1;32m    632\u001b[0m             \u001b[0;32mif\u001b[0m \u001b[0mself\u001b[0m\u001b[0;34m.\u001b[0m\u001b[0m_dataset_kind\u001b[0m \u001b[0;34m==\u001b[0m \u001b[0m_DatasetKind\u001b[0m\u001b[0;34m.\u001b[0m\u001b[0mIterable\u001b[0m \u001b[0;32mand\u001b[0m\u001b[0;31m \u001b[0m\u001b[0;31m\\\u001b[0m\u001b[0;34m\u001b[0m\u001b[0;34m\u001b[0m\u001b[0m\n",
            "\u001b[0;32m/usr/local/lib/python3.10/dist-packages/torch/utils/data/dataloader.py\u001b[0m in \u001b[0;36m_next_data\u001b[0;34m(self)\u001b[0m\n\u001b[1;32m    672\u001b[0m     \u001b[0;32mdef\u001b[0m \u001b[0m_next_data\u001b[0m\u001b[0;34m(\u001b[0m\u001b[0mself\u001b[0m\u001b[0;34m)\u001b[0m\u001b[0;34m:\u001b[0m\u001b[0;34m\u001b[0m\u001b[0;34m\u001b[0m\u001b[0m\n\u001b[1;32m    673\u001b[0m         \u001b[0mindex\u001b[0m \u001b[0;34m=\u001b[0m \u001b[0mself\u001b[0m\u001b[0;34m.\u001b[0m\u001b[0m_next_index\u001b[0m\u001b[0;34m(\u001b[0m\u001b[0;34m)\u001b[0m  \u001b[0;31m# may raise StopIteration\u001b[0m\u001b[0;34m\u001b[0m\u001b[0;34m\u001b[0m\u001b[0m\n\u001b[0;32m--> 674\u001b[0;31m         \u001b[0mdata\u001b[0m \u001b[0;34m=\u001b[0m \u001b[0mself\u001b[0m\u001b[0;34m.\u001b[0m\u001b[0m_dataset_fetcher\u001b[0m\u001b[0;34m.\u001b[0m\u001b[0mfetch\u001b[0m\u001b[0;34m(\u001b[0m\u001b[0mindex\u001b[0m\u001b[0;34m)\u001b[0m  \u001b[0;31m# may raise StopIteration\u001b[0m\u001b[0;34m\u001b[0m\u001b[0;34m\u001b[0m\u001b[0m\n\u001b[0m\u001b[1;32m    675\u001b[0m         \u001b[0;32mif\u001b[0m \u001b[0mself\u001b[0m\u001b[0;34m.\u001b[0m\u001b[0m_pin_memory\u001b[0m\u001b[0;34m:\u001b[0m\u001b[0;34m\u001b[0m\u001b[0;34m\u001b[0m\u001b[0m\n\u001b[1;32m    676\u001b[0m             \u001b[0mdata\u001b[0m \u001b[0;34m=\u001b[0m \u001b[0m_utils\u001b[0m\u001b[0;34m.\u001b[0m\u001b[0mpin_memory\u001b[0m\u001b[0;34m.\u001b[0m\u001b[0mpin_memory\u001b[0m\u001b[0;34m(\u001b[0m\u001b[0mdata\u001b[0m\u001b[0;34m,\u001b[0m \u001b[0mself\u001b[0m\u001b[0;34m.\u001b[0m\u001b[0m_pin_memory_device\u001b[0m\u001b[0;34m)\u001b[0m\u001b[0;34m\u001b[0m\u001b[0;34m\u001b[0m\u001b[0m\n",
            "\u001b[0;32m/usr/local/lib/python3.10/dist-packages/torch/utils/data/_utils/fetch.py\u001b[0m in \u001b[0;36mfetch\u001b[0;34m(self, possibly_batched_index)\u001b[0m\n\u001b[1;32m     49\u001b[0m                 \u001b[0mdata\u001b[0m \u001b[0;34m=\u001b[0m \u001b[0mself\u001b[0m\u001b[0;34m.\u001b[0m\u001b[0mdataset\u001b[0m\u001b[0;34m.\u001b[0m\u001b[0m__getitems__\u001b[0m\u001b[0;34m(\u001b[0m\u001b[0mpossibly_batched_index\u001b[0m\u001b[0;34m)\u001b[0m\u001b[0;34m\u001b[0m\u001b[0;34m\u001b[0m\u001b[0m\n\u001b[1;32m     50\u001b[0m             \u001b[0;32melse\u001b[0m\u001b[0;34m:\u001b[0m\u001b[0;34m\u001b[0m\u001b[0;34m\u001b[0m\u001b[0m\n\u001b[0;32m---> 51\u001b[0;31m                 \u001b[0mdata\u001b[0m \u001b[0;34m=\u001b[0m \u001b[0;34m[\u001b[0m\u001b[0mself\u001b[0m\u001b[0;34m.\u001b[0m\u001b[0mdataset\u001b[0m\u001b[0;34m[\u001b[0m\u001b[0midx\u001b[0m\u001b[0;34m]\u001b[0m \u001b[0;32mfor\u001b[0m \u001b[0midx\u001b[0m \u001b[0;32min\u001b[0m \u001b[0mpossibly_batched_index\u001b[0m\u001b[0;34m]\u001b[0m\u001b[0;34m\u001b[0m\u001b[0;34m\u001b[0m\u001b[0m\n\u001b[0m\u001b[1;32m     52\u001b[0m         \u001b[0;32melse\u001b[0m\u001b[0;34m:\u001b[0m\u001b[0;34m\u001b[0m\u001b[0;34m\u001b[0m\u001b[0m\n\u001b[1;32m     53\u001b[0m             \u001b[0mdata\u001b[0m \u001b[0;34m=\u001b[0m \u001b[0mself\u001b[0m\u001b[0;34m.\u001b[0m\u001b[0mdataset\u001b[0m\u001b[0;34m[\u001b[0m\u001b[0mpossibly_batched_index\u001b[0m\u001b[0;34m]\u001b[0m\u001b[0;34m\u001b[0m\u001b[0;34m\u001b[0m\u001b[0m\n",
            "\u001b[0;32m/usr/local/lib/python3.10/dist-packages/torch/utils/data/_utils/fetch.py\u001b[0m in \u001b[0;36m<listcomp>\u001b[0;34m(.0)\u001b[0m\n\u001b[1;32m     49\u001b[0m                 \u001b[0mdata\u001b[0m \u001b[0;34m=\u001b[0m \u001b[0mself\u001b[0m\u001b[0;34m.\u001b[0m\u001b[0mdataset\u001b[0m\u001b[0;34m.\u001b[0m\u001b[0m__getitems__\u001b[0m\u001b[0;34m(\u001b[0m\u001b[0mpossibly_batched_index\u001b[0m\u001b[0;34m)\u001b[0m\u001b[0;34m\u001b[0m\u001b[0;34m\u001b[0m\u001b[0m\n\u001b[1;32m     50\u001b[0m             \u001b[0;32melse\u001b[0m\u001b[0;34m:\u001b[0m\u001b[0;34m\u001b[0m\u001b[0;34m\u001b[0m\u001b[0m\n\u001b[0;32m---> 51\u001b[0;31m                 \u001b[0mdata\u001b[0m \u001b[0;34m=\u001b[0m \u001b[0;34m[\u001b[0m\u001b[0mself\u001b[0m\u001b[0;34m.\u001b[0m\u001b[0mdataset\u001b[0m\u001b[0;34m[\u001b[0m\u001b[0midx\u001b[0m\u001b[0;34m]\u001b[0m \u001b[0;32mfor\u001b[0m \u001b[0midx\u001b[0m \u001b[0;32min\u001b[0m \u001b[0mpossibly_batched_index\u001b[0m\u001b[0;34m]\u001b[0m\u001b[0;34m\u001b[0m\u001b[0;34m\u001b[0m\u001b[0m\n\u001b[0m\u001b[1;32m     52\u001b[0m         \u001b[0;32melse\u001b[0m\u001b[0;34m:\u001b[0m\u001b[0;34m\u001b[0m\u001b[0;34m\u001b[0m\u001b[0m\n\u001b[1;32m     53\u001b[0m             \u001b[0mdata\u001b[0m \u001b[0;34m=\u001b[0m \u001b[0mself\u001b[0m\u001b[0;34m.\u001b[0m\u001b[0mdataset\u001b[0m\u001b[0;34m[\u001b[0m\u001b[0mpossibly_batched_index\u001b[0m\u001b[0;34m]\u001b[0m\u001b[0;34m\u001b[0m\u001b[0;34m\u001b[0m\u001b[0m\n",
            "\u001b[0;32m<ipython-input-2-c01cc4a61d5d>\u001b[0m in \u001b[0;36m__getitem__\u001b[0;34m(self, idx)\u001b[0m\n\u001b[1;32m     13\u001b[0m         \u001b[0mlabel\u001b[0m \u001b[0;34m=\u001b[0m \u001b[0mself\u001b[0m\u001b[0;34m.\u001b[0m\u001b[0mspec_labels\u001b[0m\u001b[0;34m.\u001b[0m\u001b[0miloc\u001b[0m\u001b[0;34m[\u001b[0m\u001b[0midx\u001b[0m\u001b[0;34m]\u001b[0m \u001b[0;31m# get the label of the sample via sample's index\u001b[0m\u001b[0;34m\u001b[0m\u001b[0;34m\u001b[0m\u001b[0m\n\u001b[1;32m     14\u001b[0m \u001b[0;34m\u001b[0m\u001b[0m\n\u001b[0;32m---> 15\u001b[0;31m         \u001b[0msp\u001b[0m \u001b[0;34m=\u001b[0m \u001b[0mnp\u001b[0m\u001b[0;34m.\u001b[0m\u001b[0marray\u001b[0m\u001b[0;34m(\u001b[0m\u001b[0mpd\u001b[0m\u001b[0;34m.\u001b[0m\u001b[0mread_csv\u001b[0m\u001b[0;34m(\u001b[0m\u001b[0mself\u001b[0m\u001b[0;34m.\u001b[0m\u001b[0mspec_dir\u001b[0m \u001b[0;34m+\u001b[0m \u001b[0mstr\u001b[0m\u001b[0;34m(\u001b[0m\u001b[0mself\u001b[0m\u001b[0;34m.\u001b[0m\u001b[0mspec_number\u001b[0m\u001b[0;34m[\u001b[0m\u001b[0midx\u001b[0m\u001b[0;34m]\u001b[0m\u001b[0;34m)\u001b[0m\u001b[0;34m+\u001b[0m\u001b[0;34m'_CorrectionData'\u001b[0m\u001b[0;34m+\u001b[0m\u001b[0;34m'.csv'\u001b[0m\u001b[0;34m,\u001b[0m \u001b[0mskiprows\u001b[0m\u001b[0;34m=\u001b[0m\u001b[0;36m38\u001b[0m\u001b[0;34m,\u001b[0m \u001b[0msep\u001b[0m\u001b[0;34m=\u001b[0m\u001b[0;34m';'\u001b[0m\u001b[0;34m,\u001b[0m \u001b[0mdecimal\u001b[0m\u001b[0;34m=\u001b[0m\u001b[0;34m\",\"\u001b[0m\u001b[0;34m)\u001b[0m\u001b[0;34m.\u001b[0m\u001b[0miloc\u001b[0m\u001b[0;34m[\u001b[0m\u001b[0;36m6\u001b[0m\u001b[0;34m:\u001b[0m\u001b[0;34m-\u001b[0m\u001b[0;36m8\u001b[0m\u001b[0;34m,\u001b[0m\u001b[0;36m125\u001b[0m\u001b[0;34m:\u001b[0m\u001b[0;36m325\u001b[0m\u001b[0;34m]\u001b[0m\u001b[0;34m.\u001b[0m\u001b[0mT\u001b[0m\u001b[0;34m,\u001b[0m \u001b[0mdtype\u001b[0m\u001b[0;34m=\u001b[0m\u001b[0;34m'float32'\u001b[0m\u001b[0;34m)\u001b[0m\u001b[0;34m/\u001b[0m\u001b[0;36m4544.595\u001b[0m \u001b[0;31m# get the EEM of the sample via sample's index\u001b[0m\u001b[0;34m\u001b[0m\u001b[0;34m\u001b[0m\u001b[0m\n\u001b[0m\u001b[1;32m     16\u001b[0m \u001b[0;34m\u001b[0m\u001b[0m\n\u001b[1;32m     17\u001b[0m         \u001b[0msp\u001b[0m\u001b[0;34m[\u001b[0m\u001b[0msp\u001b[0m\u001b[0;34m<\u001b[0m\u001b[0;36m0\u001b[0m\u001b[0;34m]\u001b[0m\u001b[0;34m=\u001b[0m\u001b[0;36m0\u001b[0m \u001b[0;31m# here we zero negative values of intensities\u001b[0m\u001b[0;34m\u001b[0m\u001b[0;34m\u001b[0m\u001b[0m\n",
            "\u001b[0;32m/usr/local/lib/python3.10/dist-packages/pandas/util/_decorators.py\u001b[0m in \u001b[0;36mwrapper\u001b[0;34m(*args, **kwargs)\u001b[0m\n\u001b[1;32m    209\u001b[0m                 \u001b[0;32melse\u001b[0m\u001b[0;34m:\u001b[0m\u001b[0;34m\u001b[0m\u001b[0;34m\u001b[0m\u001b[0m\n\u001b[1;32m    210\u001b[0m                     \u001b[0mkwargs\u001b[0m\u001b[0;34m[\u001b[0m\u001b[0mnew_arg_name\u001b[0m\u001b[0;34m]\u001b[0m \u001b[0;34m=\u001b[0m \u001b[0mnew_arg_value\u001b[0m\u001b[0;34m\u001b[0m\u001b[0;34m\u001b[0m\u001b[0m\n\u001b[0;32m--> 211\u001b[0;31m             \u001b[0;32mreturn\u001b[0m \u001b[0mfunc\u001b[0m\u001b[0;34m(\u001b[0m\u001b[0;34m*\u001b[0m\u001b[0margs\u001b[0m\u001b[0;34m,\u001b[0m \u001b[0;34m**\u001b[0m\u001b[0mkwargs\u001b[0m\u001b[0;34m)\u001b[0m\u001b[0;34m\u001b[0m\u001b[0;34m\u001b[0m\u001b[0m\n\u001b[0m\u001b[1;32m    212\u001b[0m \u001b[0;34m\u001b[0m\u001b[0m\n\u001b[1;32m    213\u001b[0m         \u001b[0;32mreturn\u001b[0m \u001b[0mcast\u001b[0m\u001b[0;34m(\u001b[0m\u001b[0mF\u001b[0m\u001b[0;34m,\u001b[0m \u001b[0mwrapper\u001b[0m\u001b[0;34m)\u001b[0m\u001b[0;34m\u001b[0m\u001b[0;34m\u001b[0m\u001b[0m\n",
            "\u001b[0;32m/usr/local/lib/python3.10/dist-packages/pandas/util/_decorators.py\u001b[0m in \u001b[0;36mwrapper\u001b[0;34m(*args, **kwargs)\u001b[0m\n\u001b[1;32m    329\u001b[0m                     \u001b[0mstacklevel\u001b[0m\u001b[0;34m=\u001b[0m\u001b[0mfind_stack_level\u001b[0m\u001b[0;34m(\u001b[0m\u001b[0;34m)\u001b[0m\u001b[0;34m,\u001b[0m\u001b[0;34m\u001b[0m\u001b[0;34m\u001b[0m\u001b[0m\n\u001b[1;32m    330\u001b[0m                 )\n\u001b[0;32m--> 331\u001b[0;31m             \u001b[0;32mreturn\u001b[0m \u001b[0mfunc\u001b[0m\u001b[0;34m(\u001b[0m\u001b[0;34m*\u001b[0m\u001b[0margs\u001b[0m\u001b[0;34m,\u001b[0m \u001b[0;34m**\u001b[0m\u001b[0mkwargs\u001b[0m\u001b[0;34m)\u001b[0m\u001b[0;34m\u001b[0m\u001b[0;34m\u001b[0m\u001b[0m\n\u001b[0m\u001b[1;32m    332\u001b[0m \u001b[0;34m\u001b[0m\u001b[0m\n\u001b[1;32m    333\u001b[0m         \u001b[0;31m# error: \"Callable[[VarArg(Any), KwArg(Any)], Any]\" has no\u001b[0m\u001b[0;34m\u001b[0m\u001b[0;34m\u001b[0m\u001b[0m\n",
            "\u001b[0;32m/usr/local/lib/python3.10/dist-packages/pandas/io/parsers/readers.py\u001b[0m in \u001b[0;36mread_csv\u001b[0;34m(filepath_or_buffer, sep, delimiter, header, names, index_col, usecols, squeeze, prefix, mangle_dupe_cols, dtype, engine, converters, true_values, false_values, skipinitialspace, skiprows, skipfooter, nrows, na_values, keep_default_na, na_filter, verbose, skip_blank_lines, parse_dates, infer_datetime_format, keep_date_col, date_parser, dayfirst, cache_dates, iterator, chunksize, compression, thousands, decimal, lineterminator, quotechar, quoting, doublequote, escapechar, comment, encoding, encoding_errors, dialect, error_bad_lines, warn_bad_lines, on_bad_lines, delim_whitespace, low_memory, memory_map, float_precision, storage_options)\u001b[0m\n\u001b[1;32m    948\u001b[0m     \u001b[0mkwds\u001b[0m\u001b[0;34m.\u001b[0m\u001b[0mupdate\u001b[0m\u001b[0;34m(\u001b[0m\u001b[0mkwds_defaults\u001b[0m\u001b[0;34m)\u001b[0m\u001b[0;34m\u001b[0m\u001b[0;34m\u001b[0m\u001b[0m\n\u001b[1;32m    949\u001b[0m \u001b[0;34m\u001b[0m\u001b[0m\n\u001b[0;32m--> 950\u001b[0;31m     \u001b[0;32mreturn\u001b[0m \u001b[0m_read\u001b[0m\u001b[0;34m(\u001b[0m\u001b[0mfilepath_or_buffer\u001b[0m\u001b[0;34m,\u001b[0m \u001b[0mkwds\u001b[0m\u001b[0;34m)\u001b[0m\u001b[0;34m\u001b[0m\u001b[0;34m\u001b[0m\u001b[0m\n\u001b[0m\u001b[1;32m    951\u001b[0m \u001b[0;34m\u001b[0m\u001b[0m\n\u001b[1;32m    952\u001b[0m \u001b[0;34m\u001b[0m\u001b[0m\n",
            "\u001b[0;32m/usr/local/lib/python3.10/dist-packages/pandas/io/parsers/readers.py\u001b[0m in \u001b[0;36m_read\u001b[0;34m(filepath_or_buffer, kwds)\u001b[0m\n\u001b[1;32m    609\u001b[0m \u001b[0;34m\u001b[0m\u001b[0m\n\u001b[1;32m    610\u001b[0m     \u001b[0;32mwith\u001b[0m \u001b[0mparser\u001b[0m\u001b[0;34m:\u001b[0m\u001b[0;34m\u001b[0m\u001b[0;34m\u001b[0m\u001b[0m\n\u001b[0;32m--> 611\u001b[0;31m         \u001b[0;32mreturn\u001b[0m \u001b[0mparser\u001b[0m\u001b[0;34m.\u001b[0m\u001b[0mread\u001b[0m\u001b[0;34m(\u001b[0m\u001b[0mnrows\u001b[0m\u001b[0;34m)\u001b[0m\u001b[0;34m\u001b[0m\u001b[0;34m\u001b[0m\u001b[0m\n\u001b[0m\u001b[1;32m    612\u001b[0m \u001b[0;34m\u001b[0m\u001b[0m\n\u001b[1;32m    613\u001b[0m \u001b[0;34m\u001b[0m\u001b[0m\n",
            "\u001b[0;32m/usr/local/lib/python3.10/dist-packages/pandas/io/parsers/readers.py\u001b[0m in \u001b[0;36mread\u001b[0;34m(self, nrows)\u001b[0m\n\u001b[1;32m   1776\u001b[0m                     \u001b[0mcolumns\u001b[0m\u001b[0;34m,\u001b[0m\u001b[0;34m\u001b[0m\u001b[0;34m\u001b[0m\u001b[0m\n\u001b[1;32m   1777\u001b[0m                     \u001b[0mcol_dict\u001b[0m\u001b[0;34m,\u001b[0m\u001b[0;34m\u001b[0m\u001b[0;34m\u001b[0m\u001b[0m\n\u001b[0;32m-> 1778\u001b[0;31m                 \u001b[0;34m)\u001b[0m \u001b[0;34m=\u001b[0m \u001b[0mself\u001b[0m\u001b[0;34m.\u001b[0m\u001b[0m_engine\u001b[0m\u001b[0;34m.\u001b[0m\u001b[0mread\u001b[0m\u001b[0;34m(\u001b[0m  \u001b[0;31m# type: ignore[attr-defined]\u001b[0m\u001b[0;34m\u001b[0m\u001b[0;34m\u001b[0m\u001b[0m\n\u001b[0m\u001b[1;32m   1779\u001b[0m                     \u001b[0mnrows\u001b[0m\u001b[0;34m\u001b[0m\u001b[0;34m\u001b[0m\u001b[0m\n\u001b[1;32m   1780\u001b[0m                 )\n",
            "\u001b[0;32m/usr/local/lib/python3.10/dist-packages/pandas/io/parsers/c_parser_wrapper.py\u001b[0m in \u001b[0;36mread\u001b[0;34m(self, nrows)\u001b[0m\n\u001b[1;32m    228\u001b[0m         \u001b[0;32mtry\u001b[0m\u001b[0;34m:\u001b[0m\u001b[0;34m\u001b[0m\u001b[0;34m\u001b[0m\u001b[0m\n\u001b[1;32m    229\u001b[0m             \u001b[0;32mif\u001b[0m \u001b[0mself\u001b[0m\u001b[0;34m.\u001b[0m\u001b[0mlow_memory\u001b[0m\u001b[0;34m:\u001b[0m\u001b[0;34m\u001b[0m\u001b[0;34m\u001b[0m\u001b[0m\n\u001b[0;32m--> 230\u001b[0;31m                 \u001b[0mchunks\u001b[0m \u001b[0;34m=\u001b[0m \u001b[0mself\u001b[0m\u001b[0;34m.\u001b[0m\u001b[0m_reader\u001b[0m\u001b[0;34m.\u001b[0m\u001b[0mread_low_memory\u001b[0m\u001b[0;34m(\u001b[0m\u001b[0mnrows\u001b[0m\u001b[0;34m)\u001b[0m\u001b[0;34m\u001b[0m\u001b[0;34m\u001b[0m\u001b[0m\n\u001b[0m\u001b[1;32m    231\u001b[0m                 \u001b[0;31m# destructive to chunks\u001b[0m\u001b[0;34m\u001b[0m\u001b[0;34m\u001b[0m\u001b[0m\n\u001b[1;32m    232\u001b[0m                 \u001b[0mdata\u001b[0m \u001b[0;34m=\u001b[0m \u001b[0m_concatenate_chunks\u001b[0m\u001b[0;34m(\u001b[0m\u001b[0mchunks\u001b[0m\u001b[0;34m)\u001b[0m\u001b[0;34m\u001b[0m\u001b[0;34m\u001b[0m\u001b[0m\n",
            "\u001b[0;32m/usr/local/lib/python3.10/dist-packages/pandas/_libs/parsers.pyx\u001b[0m in \u001b[0;36mpandas._libs.parsers.TextReader.read_low_memory\u001b[0;34m()\u001b[0m\n",
            "\u001b[0;32m/usr/local/lib/python3.10/dist-packages/pandas/_libs/parsers.pyx\u001b[0m in \u001b[0;36mpandas._libs.parsers.TextReader._read_rows\u001b[0;34m()\u001b[0m\n",
            "\u001b[0;32m/usr/local/lib/python3.10/dist-packages/pandas/_libs/parsers.pyx\u001b[0m in \u001b[0;36mpandas._libs.parsers.TextReader._convert_column_data\u001b[0;34m()\u001b[0m\n",
            "\u001b[0;32m/usr/local/lib/python3.10/dist-packages/pandas/_libs/parsers.pyx\u001b[0m in \u001b[0;36mpandas._libs.parsers.TextReader._convert_tokens\u001b[0;34m()\u001b[0m\n",
            "\u001b[0;32m/usr/local/lib/python3.10/dist-packages/pandas/_libs/parsers.pyx\u001b[0m in \u001b[0;36mpandas._libs.parsers.TextReader._convert_with_dtype\u001b[0;34m()\u001b[0m\n",
            "\u001b[0;32m/usr/local/lib/python3.10/dist-packages/pandas/core/dtypes/common.py\u001b[0m in \u001b[0;36mis_extension_array_dtype\u001b[0;34m(arr_or_dtype)\u001b[0m\n\u001b[1;32m   1431\u001b[0m \u001b[0;34m\u001b[0m\u001b[0m\n\u001b[1;32m   1432\u001b[0m \u001b[0;34m\u001b[0m\u001b[0m\n\u001b[0;32m-> 1433\u001b[0;31m \u001b[0;32mdef\u001b[0m \u001b[0mis_extension_array_dtype\u001b[0m\u001b[0;34m(\u001b[0m\u001b[0marr_or_dtype\u001b[0m\u001b[0;34m)\u001b[0m \u001b[0;34m->\u001b[0m \u001b[0mbool\u001b[0m\u001b[0;34m:\u001b[0m\u001b[0;34m\u001b[0m\u001b[0;34m\u001b[0m\u001b[0m\n\u001b[0m\u001b[1;32m   1434\u001b[0m     \"\"\"\n\u001b[1;32m   1435\u001b[0m     \u001b[0mCheck\u001b[0m \u001b[0;32mif\u001b[0m \u001b[0man\u001b[0m \u001b[0mobject\u001b[0m \u001b[0;32mis\u001b[0m \u001b[0ma\u001b[0m \u001b[0mpandas\u001b[0m \u001b[0mextension\u001b[0m \u001b[0marray\u001b[0m \u001b[0mtype\u001b[0m\u001b[0;34m.\u001b[0m\u001b[0;34m\u001b[0m\u001b[0;34m\u001b[0m\u001b[0m\n",
            "\u001b[0;31mKeyboardInterrupt\u001b[0m: "
          ]
        }
      ],
      "source": [
        "device = torch.device('cuda' if torch.cuda.is_available() else 'cpu')\n",
        "print('Using device:', device)\n",
        "\n",
        "model = twoD_CNN()\n",
        "\n",
        "loss_function = torch.nn.MSELoss().cuda()\n",
        "optimizer = optim.Adam(model.parameters(), lr=0.002)\n",
        "case_name = '2D_CNN'\n",
        "\n",
        "for fold in k_folds:\n",
        "\n",
        "    cnn_2d_path = case_name+'/'\n",
        "    split_path = gen_path+cnn_2d_path+'split_'+ str(fold[0])+'_'+str(fold[1])+ '/'\n",
        "\n",
        "\n",
        "    training_data = CDs_2D_dataset(split_path+'Y_trn'+'.csv', gen_path + 'CD_HM_dataset/')\n",
        "    validation_data = CDs_2D_dataset(split_path+'Y_vld'+'.csv', gen_path + 'CD_HM_dataset/')\n",
        "    test_data = CDs_2D_dataset(split_path+'Y_tst'+'.csv', gen_path + 'CD_HM_dataset/')\n",
        "\n",
        "    train_dataloader = DataLoader(training_data, batch_size=64, shuffle=True)\n",
        "    validation_dataloader = DataLoader(validation_data, batch_size=64, shuffle=True)\n",
        "    test_dataloader = DataLoader(test_data, batch_size=64, shuffle=True)\n",
        "\n",
        "\n",
        "    for init_number in range(0,2):\n",
        "\n",
        "      init_path = split_path + str(init_number)+'/'\n",
        "      os.makedirs(init_path, exist_ok=True)\n",
        "\n",
        "      test_stop = 100\n",
        "      max_val_loss = 10000.0\n",
        "\n",
        "      split_name = 'split_'+ str(fold[0])+'_'+str(fold[1])\n",
        "      init_name = '_' + str(init_number)\n",
        "      model_name = '_2D_CNN'\n",
        "\n",
        "\n",
        "      for epoch_step in range(0, 5000, test_stop):\n",
        "\n",
        "          if epoch_step!=0:\n",
        "              checkpoint = torch.load(init_path + 'model'+model_name+'.pth')\n",
        "              model.load_state_dict(checkpoint['model_state_dict'])\n",
        "              optimizer.load_state_dict(checkpoint['optimizer_state_dict'])\n",
        "              last_best_epoch = checkpoint['epoch']\n",
        "              loss = checkpoint['loss']\n",
        "              model.train()\n",
        "\n",
        "              if last_best_epoch + test_stop > ep:\n",
        "                  for ep in range(epoch_step, epoch_step+test_stop):\n",
        "                      for _, data in enumerate(train_dataloader, 0):\n",
        "                          inputs, labels = data\n",
        "                          optimizer.zero_grad()\n",
        "                          outputs = model(inputs)\n",
        "                          loss = loss_function(outputs, labels)\n",
        "                          loss.backward()\n",
        "                          optimizer.step()\n",
        "\n",
        "                      dl = 0\n",
        "                      val_loss = 0.0\n",
        "                      for specs, labels in validation_dataloader:\n",
        "                          val_loss += loss_function(model(specs),labels)\n",
        "                          dl+=1\n",
        "                      val_loss = val_loss/dl\n",
        "\n",
        "\n",
        "\n",
        "                      if val_loss.item() <= max_val_loss:\n",
        "                          torch.save({'epoch': ep,\n",
        "                            'model_state_dict': model.state_dict(),\n",
        "                            'optimizer_state_dict': optimizer.state_dict(),\n",
        "                            'loss': loss}, init_path + 'model'+model_name+'.pth')\n",
        "                          max_val_loss = val_loss.item()\n",
        "              else: continue\n",
        "\n",
        "          if epoch_step==0:\n",
        "              model.apply(reset_weights)\n",
        "\n",
        "              for ep in range(epoch_step, test_stop):\n",
        "                  for _, data in enumerate(train_dataloader, 0):\n",
        "                      inputs, labels = data\n",
        "                      optimizer.zero_grad()\n",
        "                      outputs = model(inputs)\n",
        "                      loss = loss_function(outputs, labels)\n",
        "                      loss.backward()\n",
        "                      optimizer.step()\n",
        "\n",
        "                  dl = 0\n",
        "                  val_loss = 0.0\n",
        "                  for specs, labels in validation_dataloader:\n",
        "                      val_loss += loss_function(model(specs),labels)\n",
        "                      dl+=1\n",
        "                  val_loss = val_loss/dl\n",
        "\n",
        "                  if val_loss.item() <= max_val_loss:\n",
        "                      torch.save({'epoch': ep,\n",
        "                        'model_state_dict': model.state_dict(),\n",
        "                        'optimizer_state_dict': optimizer.state_dict(),\n",
        "                        'loss': loss}, init_path + 'model'+model_name+'.pth')\n",
        "                      max_val_loss = val_loss.item()\n",
        "\n",
        "\n",
        "      write_predictions(model, model_name, init_path, train_dataloader, dset = 'trn')\n",
        "      write_predictions(model, model_name, init_path, validation_dataloader, dset ='vld')\n",
        "      write_predictions(model, model_name, init_path, test_dataloader, dset ='tst')\n",
        "\n",
        "\n",
        "      print(epoch_step, init_number, fold)"
      ]
    },
    {
      "cell_type": "markdown",
      "id": "cfcb5405",
      "metadata": {
        "id": "cfcb5405"
      },
      "source": [
        "## 1.7. Подсчет ошибок"
      ]
    },
    {
      "cell_type": "code",
      "execution_count": 10,
      "id": "5cb4fd97",
      "metadata": {
        "id": "5cb4fd97",
        "outputId": "83352121-2e52-491c-bef8-9606104649cb",
        "colab": {
          "base_uri": "https://localhost:8080/",
          "height": 391
        }
      },
      "outputs": [
        {
          "output_type": "error",
          "ename": "FileNotFoundError",
          "evalue": "ignored",
          "traceback": [
            "\u001b[0;31m---------------------------------------------------------------------------\u001b[0m",
            "\u001b[0;31mFileNotFoundError\u001b[0m                         Traceback (most recent call last)",
            "\u001b[0;32m<ipython-input-10-21e97424d57e>\u001b[0m in \u001b[0;36m<cell line: 10>\u001b[0;34m()\u001b[0m\n\u001b[1;32m     12\u001b[0m \u001b[0;34m\u001b[0m\u001b[0m\n\u001b[1;32m     13\u001b[0m         \u001b[0mpath_true_tst\u001b[0m \u001b[0;34m=\u001b[0m \u001b[0;34m'2D_CNN/split_'\u001b[0m \u001b[0;34m+\u001b[0m \u001b[0mstr\u001b[0m\u001b[0;34m(\u001b[0m\u001b[0mfold\u001b[0m\u001b[0;34m[\u001b[0m\u001b[0;36m0\u001b[0m\u001b[0;34m]\u001b[0m\u001b[0;34m)\u001b[0m\u001b[0;34m+\u001b[0m\u001b[0;34m'_'\u001b[0m\u001b[0;34m+\u001b[0m\u001b[0mstr\u001b[0m\u001b[0;34m(\u001b[0m\u001b[0mfold\u001b[0m\u001b[0;34m[\u001b[0m\u001b[0;36m1\u001b[0m\u001b[0;34m]\u001b[0m\u001b[0;34m)\u001b[0m\u001b[0;34m+\u001b[0m \u001b[0;34m'/'\u001b[0m \u001b[0;34m+\u001b[0m \u001b[0mstr\u001b[0m\u001b[0;34m(\u001b[0m\u001b[0mi\u001b[0m\u001b[0;34m)\u001b[0m \u001b[0;34m+\u001b[0m \u001b[0;34m'/Y_true__tst.csv'\u001b[0m\u001b[0;34m\u001b[0m\u001b[0;34m\u001b[0m\u001b[0m\n\u001b[0;32m---> 14\u001b[0;31m         \u001b[0mY_true_tst\u001b[0m \u001b[0;34m=\u001b[0m \u001b[0mpd\u001b[0m\u001b[0;34m.\u001b[0m\u001b[0mread_csv\u001b[0m\u001b[0;34m(\u001b[0m\u001b[0mpath_true_tst\u001b[0m\u001b[0;34m)\u001b[0m\u001b[0;34m\u001b[0m\u001b[0;34m\u001b[0m\u001b[0m\n\u001b[0m\u001b[1;32m     15\u001b[0m \u001b[0;34m\u001b[0m\u001b[0m\n\u001b[1;32m     16\u001b[0m         \u001b[0mpath_out_tst\u001b[0m \u001b[0;34m=\u001b[0m \u001b[0;34m'2D_CNN/split_'\u001b[0m \u001b[0;34m+\u001b[0m \u001b[0mstr\u001b[0m\u001b[0;34m(\u001b[0m\u001b[0mfold\u001b[0m\u001b[0;34m[\u001b[0m\u001b[0;36m0\u001b[0m\u001b[0;34m]\u001b[0m\u001b[0;34m)\u001b[0m\u001b[0;34m+\u001b[0m\u001b[0;34m'_'\u001b[0m\u001b[0;34m+\u001b[0m\u001b[0mstr\u001b[0m\u001b[0;34m(\u001b[0m\u001b[0mfold\u001b[0m\u001b[0;34m[\u001b[0m\u001b[0;36m1\u001b[0m\u001b[0;34m]\u001b[0m\u001b[0;34m)\u001b[0m\u001b[0;34m+\u001b[0m \u001b[0;34m'/'\u001b[0m \u001b[0;34m+\u001b[0m \u001b[0mstr\u001b[0m\u001b[0;34m(\u001b[0m\u001b[0mi\u001b[0m\u001b[0;34m)\u001b[0m \u001b[0;34m+\u001b[0m \u001b[0;34m'/Y_out__tst.csv'\u001b[0m\u001b[0;34m\u001b[0m\u001b[0;34m\u001b[0m\u001b[0m\n",
            "\u001b[0;32m/usr/local/lib/python3.10/dist-packages/pandas/util/_decorators.py\u001b[0m in \u001b[0;36mwrapper\u001b[0;34m(*args, **kwargs)\u001b[0m\n\u001b[1;32m    209\u001b[0m                 \u001b[0;32melse\u001b[0m\u001b[0;34m:\u001b[0m\u001b[0;34m\u001b[0m\u001b[0;34m\u001b[0m\u001b[0m\n\u001b[1;32m    210\u001b[0m                     \u001b[0mkwargs\u001b[0m\u001b[0;34m[\u001b[0m\u001b[0mnew_arg_name\u001b[0m\u001b[0;34m]\u001b[0m \u001b[0;34m=\u001b[0m \u001b[0mnew_arg_value\u001b[0m\u001b[0;34m\u001b[0m\u001b[0;34m\u001b[0m\u001b[0m\n\u001b[0;32m--> 211\u001b[0;31m             \u001b[0;32mreturn\u001b[0m \u001b[0mfunc\u001b[0m\u001b[0;34m(\u001b[0m\u001b[0;34m*\u001b[0m\u001b[0margs\u001b[0m\u001b[0;34m,\u001b[0m \u001b[0;34m**\u001b[0m\u001b[0mkwargs\u001b[0m\u001b[0;34m)\u001b[0m\u001b[0;34m\u001b[0m\u001b[0;34m\u001b[0m\u001b[0m\n\u001b[0m\u001b[1;32m    212\u001b[0m \u001b[0;34m\u001b[0m\u001b[0m\n\u001b[1;32m    213\u001b[0m         \u001b[0;32mreturn\u001b[0m \u001b[0mcast\u001b[0m\u001b[0;34m(\u001b[0m\u001b[0mF\u001b[0m\u001b[0;34m,\u001b[0m \u001b[0mwrapper\u001b[0m\u001b[0;34m)\u001b[0m\u001b[0;34m\u001b[0m\u001b[0;34m\u001b[0m\u001b[0m\n",
            "\u001b[0;32m/usr/local/lib/python3.10/dist-packages/pandas/util/_decorators.py\u001b[0m in \u001b[0;36mwrapper\u001b[0;34m(*args, **kwargs)\u001b[0m\n\u001b[1;32m    329\u001b[0m                     \u001b[0mstacklevel\u001b[0m\u001b[0;34m=\u001b[0m\u001b[0mfind_stack_level\u001b[0m\u001b[0;34m(\u001b[0m\u001b[0;34m)\u001b[0m\u001b[0;34m,\u001b[0m\u001b[0;34m\u001b[0m\u001b[0;34m\u001b[0m\u001b[0m\n\u001b[1;32m    330\u001b[0m                 )\n\u001b[0;32m--> 331\u001b[0;31m             \u001b[0;32mreturn\u001b[0m \u001b[0mfunc\u001b[0m\u001b[0;34m(\u001b[0m\u001b[0;34m*\u001b[0m\u001b[0margs\u001b[0m\u001b[0;34m,\u001b[0m \u001b[0;34m**\u001b[0m\u001b[0mkwargs\u001b[0m\u001b[0;34m)\u001b[0m\u001b[0;34m\u001b[0m\u001b[0;34m\u001b[0m\u001b[0m\n\u001b[0m\u001b[1;32m    332\u001b[0m \u001b[0;34m\u001b[0m\u001b[0m\n\u001b[1;32m    333\u001b[0m         \u001b[0;31m# error: \"Callable[[VarArg(Any), KwArg(Any)], Any]\" has no\u001b[0m\u001b[0;34m\u001b[0m\u001b[0;34m\u001b[0m\u001b[0m\n",
            "\u001b[0;32m/usr/local/lib/python3.10/dist-packages/pandas/io/parsers/readers.py\u001b[0m in \u001b[0;36mread_csv\u001b[0;34m(filepath_or_buffer, sep, delimiter, header, names, index_col, usecols, squeeze, prefix, mangle_dupe_cols, dtype, engine, converters, true_values, false_values, skipinitialspace, skiprows, skipfooter, nrows, na_values, keep_default_na, na_filter, verbose, skip_blank_lines, parse_dates, infer_datetime_format, keep_date_col, date_parser, dayfirst, cache_dates, iterator, chunksize, compression, thousands, decimal, lineterminator, quotechar, quoting, doublequote, escapechar, comment, encoding, encoding_errors, dialect, error_bad_lines, warn_bad_lines, on_bad_lines, delim_whitespace, low_memory, memory_map, float_precision, storage_options)\u001b[0m\n\u001b[1;32m    948\u001b[0m     \u001b[0mkwds\u001b[0m\u001b[0;34m.\u001b[0m\u001b[0mupdate\u001b[0m\u001b[0;34m(\u001b[0m\u001b[0mkwds_defaults\u001b[0m\u001b[0;34m)\u001b[0m\u001b[0;34m\u001b[0m\u001b[0;34m\u001b[0m\u001b[0m\n\u001b[1;32m    949\u001b[0m \u001b[0;34m\u001b[0m\u001b[0m\n\u001b[0;32m--> 950\u001b[0;31m     \u001b[0;32mreturn\u001b[0m \u001b[0m_read\u001b[0m\u001b[0;34m(\u001b[0m\u001b[0mfilepath_or_buffer\u001b[0m\u001b[0;34m,\u001b[0m \u001b[0mkwds\u001b[0m\u001b[0;34m)\u001b[0m\u001b[0;34m\u001b[0m\u001b[0;34m\u001b[0m\u001b[0m\n\u001b[0m\u001b[1;32m    951\u001b[0m \u001b[0;34m\u001b[0m\u001b[0m\n\u001b[1;32m    952\u001b[0m \u001b[0;34m\u001b[0m\u001b[0m\n",
            "\u001b[0;32m/usr/local/lib/python3.10/dist-packages/pandas/io/parsers/readers.py\u001b[0m in \u001b[0;36m_read\u001b[0;34m(filepath_or_buffer, kwds)\u001b[0m\n\u001b[1;32m    603\u001b[0m \u001b[0;34m\u001b[0m\u001b[0m\n\u001b[1;32m    604\u001b[0m     \u001b[0;31m# Create the parser.\u001b[0m\u001b[0;34m\u001b[0m\u001b[0;34m\u001b[0m\u001b[0m\n\u001b[0;32m--> 605\u001b[0;31m     \u001b[0mparser\u001b[0m \u001b[0;34m=\u001b[0m \u001b[0mTextFileReader\u001b[0m\u001b[0;34m(\u001b[0m\u001b[0mfilepath_or_buffer\u001b[0m\u001b[0;34m,\u001b[0m \u001b[0;34m**\u001b[0m\u001b[0mkwds\u001b[0m\u001b[0;34m)\u001b[0m\u001b[0;34m\u001b[0m\u001b[0;34m\u001b[0m\u001b[0m\n\u001b[0m\u001b[1;32m    606\u001b[0m \u001b[0;34m\u001b[0m\u001b[0m\n\u001b[1;32m    607\u001b[0m     \u001b[0;32mif\u001b[0m \u001b[0mchunksize\u001b[0m \u001b[0;32mor\u001b[0m \u001b[0miterator\u001b[0m\u001b[0;34m:\u001b[0m\u001b[0;34m\u001b[0m\u001b[0;34m\u001b[0m\u001b[0m\n",
            "\u001b[0;32m/usr/local/lib/python3.10/dist-packages/pandas/io/parsers/readers.py\u001b[0m in \u001b[0;36m__init__\u001b[0;34m(self, f, engine, **kwds)\u001b[0m\n\u001b[1;32m   1440\u001b[0m \u001b[0;34m\u001b[0m\u001b[0m\n\u001b[1;32m   1441\u001b[0m         \u001b[0mself\u001b[0m\u001b[0;34m.\u001b[0m\u001b[0mhandles\u001b[0m\u001b[0;34m:\u001b[0m \u001b[0mIOHandles\u001b[0m \u001b[0;34m|\u001b[0m \u001b[0;32mNone\u001b[0m \u001b[0;34m=\u001b[0m \u001b[0;32mNone\u001b[0m\u001b[0;34m\u001b[0m\u001b[0;34m\u001b[0m\u001b[0m\n\u001b[0;32m-> 1442\u001b[0;31m         \u001b[0mself\u001b[0m\u001b[0;34m.\u001b[0m\u001b[0m_engine\u001b[0m \u001b[0;34m=\u001b[0m \u001b[0mself\u001b[0m\u001b[0;34m.\u001b[0m\u001b[0m_make_engine\u001b[0m\u001b[0;34m(\u001b[0m\u001b[0mf\u001b[0m\u001b[0;34m,\u001b[0m \u001b[0mself\u001b[0m\u001b[0;34m.\u001b[0m\u001b[0mengine\u001b[0m\u001b[0;34m)\u001b[0m\u001b[0;34m\u001b[0m\u001b[0;34m\u001b[0m\u001b[0m\n\u001b[0m\u001b[1;32m   1443\u001b[0m \u001b[0;34m\u001b[0m\u001b[0m\n\u001b[1;32m   1444\u001b[0m     \u001b[0;32mdef\u001b[0m \u001b[0mclose\u001b[0m\u001b[0;34m(\u001b[0m\u001b[0mself\u001b[0m\u001b[0;34m)\u001b[0m \u001b[0;34m->\u001b[0m \u001b[0;32mNone\u001b[0m\u001b[0;34m:\u001b[0m\u001b[0;34m\u001b[0m\u001b[0;34m\u001b[0m\u001b[0m\n",
            "\u001b[0;32m/usr/local/lib/python3.10/dist-packages/pandas/io/parsers/readers.py\u001b[0m in \u001b[0;36m_make_engine\u001b[0;34m(self, f, engine)\u001b[0m\n\u001b[1;32m   1733\u001b[0m                 \u001b[0;32mif\u001b[0m \u001b[0;34m\"b\"\u001b[0m \u001b[0;32mnot\u001b[0m \u001b[0;32min\u001b[0m \u001b[0mmode\u001b[0m\u001b[0;34m:\u001b[0m\u001b[0;34m\u001b[0m\u001b[0;34m\u001b[0m\u001b[0m\n\u001b[1;32m   1734\u001b[0m                     \u001b[0mmode\u001b[0m \u001b[0;34m+=\u001b[0m \u001b[0;34m\"b\"\u001b[0m\u001b[0;34m\u001b[0m\u001b[0;34m\u001b[0m\u001b[0m\n\u001b[0;32m-> 1735\u001b[0;31m             self.handles = get_handle(\n\u001b[0m\u001b[1;32m   1736\u001b[0m                 \u001b[0mf\u001b[0m\u001b[0;34m,\u001b[0m\u001b[0;34m\u001b[0m\u001b[0;34m\u001b[0m\u001b[0m\n\u001b[1;32m   1737\u001b[0m                 \u001b[0mmode\u001b[0m\u001b[0;34m,\u001b[0m\u001b[0;34m\u001b[0m\u001b[0;34m\u001b[0m\u001b[0m\n",
            "\u001b[0;32m/usr/local/lib/python3.10/dist-packages/pandas/io/common.py\u001b[0m in \u001b[0;36mget_handle\u001b[0;34m(path_or_buf, mode, encoding, compression, memory_map, is_text, errors, storage_options)\u001b[0m\n\u001b[1;32m    854\u001b[0m         \u001b[0;32mif\u001b[0m \u001b[0mioargs\u001b[0m\u001b[0;34m.\u001b[0m\u001b[0mencoding\u001b[0m \u001b[0;32mand\u001b[0m \u001b[0;34m\"b\"\u001b[0m \u001b[0;32mnot\u001b[0m \u001b[0;32min\u001b[0m \u001b[0mioargs\u001b[0m\u001b[0;34m.\u001b[0m\u001b[0mmode\u001b[0m\u001b[0;34m:\u001b[0m\u001b[0;34m\u001b[0m\u001b[0;34m\u001b[0m\u001b[0m\n\u001b[1;32m    855\u001b[0m             \u001b[0;31m# Encoding\u001b[0m\u001b[0;34m\u001b[0m\u001b[0;34m\u001b[0m\u001b[0m\n\u001b[0;32m--> 856\u001b[0;31m             handle = open(\n\u001b[0m\u001b[1;32m    857\u001b[0m                 \u001b[0mhandle\u001b[0m\u001b[0;34m,\u001b[0m\u001b[0;34m\u001b[0m\u001b[0;34m\u001b[0m\u001b[0m\n\u001b[1;32m    858\u001b[0m                 \u001b[0mioargs\u001b[0m\u001b[0;34m.\u001b[0m\u001b[0mmode\u001b[0m\u001b[0;34m,\u001b[0m\u001b[0;34m\u001b[0m\u001b[0;34m\u001b[0m\u001b[0m\n",
            "\u001b[0;31mFileNotFoundError\u001b[0m: [Errno 2] No such file or directory: '2D_CNN/split_42_12/0/Y_true__tst.csv'"
          ]
        }
      ],
      "source": [
        "cu_errors = []\n",
        "ni_errors = []\n",
        "cr_errors = []\n",
        "no3_errors = []\n",
        "ph_errors = []\n",
        "\n",
        "mnozh_init = []\n",
        "folds = []\n",
        "\n",
        "for fold in k_folds:\n",
        "    for i in range(0, 2):\n",
        "\n",
        "        path_true_tst = '2D_CNN/split_' + str(fold[0])+'_'+str(fold[1])+ '/' + str(i) + '/Y_true__tst.csv'\n",
        "        Y_true_tst = pd.read_csv(path_true_tst)\n",
        "\n",
        "        path_out_tst = '2D_CNN/split_' + str(fold[0])+'_'+str(fold[1])+ '/' + str(i) + '/Y_out__tst.csv'\n",
        "        Y_out_tst = pd.read_csv(path_out_tst)\n",
        "\n",
        "        cu_err = np.mean(sklearn.metrics.mean_absolute_error(Y_true_tst['Cu'], Y_out_tst['Cu']))\n",
        "        ni_err = np.mean(sklearn.metrics.mean_absolute_error(Y_true_tst['Ni'], Y_out_tst['Ni']))\n",
        "        cr_err = np.mean(sklearn.metrics.mean_absolute_error(Y_true_tst['Cr'], Y_out_tst['Cr']))\n",
        "        no3_err = np.mean(sklearn.metrics.mean_absolute_error(Y_true_tst['NO3'], Y_out_tst['NO3']))\n",
        "        ph_err = np.mean(sklearn.metrics.mean_absolute_error(Y_true_tst['pH'], Y_out_tst['pH']))\n",
        "\n",
        "\n",
        "        cu_errors.append(cu_err)\n",
        "        ni_errors.append(ni_err)\n",
        "        cr_errors.append(cr_err)\n",
        "        no3_errors.append(no3_err)\n",
        "        ph_errors.append(ph_err)\n",
        "\n",
        "        mnozh_init.append(i)\n",
        "        folds.append(fold)\n",
        "\n"
      ]
    },
    {
      "cell_type": "markdown",
      "id": "bbf9150d",
      "metadata": {
        "id": "bbf9150d"
      },
      "source": [
        "# II. Увеличение представительности набора с помощью автоэнкодеров"
      ]
    },
    {
      "cell_type": "markdown",
      "id": "dc2c5e35",
      "metadata": {
        "id": "dc2c5e35"
      },
      "source": [
        "## 2.1. Encoder & decoder"
      ]
    },
    {
      "cell_type": "code",
      "execution_count": null,
      "id": "62cca814",
      "metadata": {
        "id": "62cca814"
      },
      "outputs": [],
      "source": [
        "import torch.nn as nn\n",
        "\n",
        "\n",
        "class Encoder(nn.Module):\n",
        "    def __init__(self, latent_size):\n",
        "        super().__init__()\n",
        "        self.latent_size = latent_size\\\n",
        "\n",
        "\n",
        "        self.encoder = nn.Sequential(\n",
        "            nn.Conv2d(in_channels=1, out_channels=6, kernel_size=3, padding='same'),\n",
        "            nn.BatchNorm2d(6),\n",
        "            nn.LeakyReLU(),\n",
        "            nn.MaxPool2d(2),\n",
        "            nn.Conv2d(in_channels=6, out_channels=16, kernel_size=3, padding='same'),\n",
        "            nn.BatchNorm2d(16),\n",
        "            nn.LeakyReLU(),\n",
        "            nn.MaxPool2d(2),\n",
        "            nn.Conv2d(in_channels=16, out_channels=32, kernel_size=3, padding='same'),\n",
        "            nn.BatchNorm2d(32),\n",
        "            nn.LeakyReLU(),\n",
        "            nn.MaxPool2d(2),\n",
        "            nn.Flatten(),\n",
        "\n",
        "            nn.Linear(32 * 25 * 3, self.latent_size)\n",
        "        )\n",
        "\n",
        "    def forward(self, x):\n",
        "        x = self.encoder(x)\n",
        "        return x\n",
        "\n",
        "\n",
        "\n",
        "\n",
        "class Decoder(nn.Module):\n",
        "    def __init__(self, latent_size):\n",
        "        super().__init__()\n",
        "\n",
        "        self.latent_size = latent_size\n",
        "\n",
        "        self.linear = nn.Linear(self.latent_size, 32 * 25 * 3)\n",
        "\n",
        "        self.decoder = nn.Sequential(\n",
        "            nn.Upsample(size=(36, 4), mode='bicubic'),\n",
        "            nn.ConvTranspose2d(in_channels=32, out_channels=16, kernel_size=3),\n",
        "            nn.BatchNorm2d(16),\n",
        "            nn.LeakyReLU(),\n",
        "            nn.Upsample(size=(88, 10), mode='bicubic'),\n",
        "            nn.ConvTranspose2d(in_channels=16, out_channels=6, kernel_size=3),\n",
        "            nn.BatchNorm2d(6),\n",
        "            nn.LeakyReLU(),\n",
        "            nn.Upsample(size=(200, 27), mode='bicubic'),\n",
        "            nn.ConvTranspose2d(in_channels=6, out_channels=1, kernel_size=3),\n",
        "            nn.Upsample(size=(200, 27), mode='bicubic'),\n",
        "            nn.Sigmoid()\n",
        "        )\n",
        "\n",
        "\n",
        "    def forward(self, x):\n",
        "        x = self.linear(x)\n",
        "        x = x.view(-1, 32, 25, 3)\n",
        "        x = self.decoder(x)\n",
        "        return x"
      ]
    },
    {
      "cell_type": "code",
      "execution_count": null,
      "id": "64f7a400",
      "metadata": {
        "id": "64f7a400"
      },
      "outputs": [],
      "source": [
        "from torchsummary import summary\n",
        "\n",
        "latent_size = 100\n",
        "learning_rate = 1e-4\n",
        "encoder = Encoder(latent_size=latent_size)\n",
        "decoder = Decoder(latent_size=latent_size)\n",
        "\n",
        "encoder = encoder.to(device)\n",
        "decoder = decoder.to(device)\n",
        "\n",
        "print(\">>> Encoder\")\n",
        "print(summary(encoder, (1, 201, 27)))\n",
        "print(\">>> Decoder\")\n",
        "print(summary(decoder, (1, latent_size)))"
      ]
    },
    {
      "cell_type": "markdown",
      "id": "aa521450",
      "metadata": {
        "id": "aa521450"
      },
      "source": [
        "## 2.2 Реализация VAE"
      ]
    },
    {
      "cell_type": "code",
      "execution_count": null,
      "id": "ea6bdc2f",
      "metadata": {
        "id": "ea6bdc2f"
      },
      "outputs": [],
      "source": [
        "class VAEEncoder(Encoder):\n",
        "    def __init__(self, latent_size):\n",
        "        if latent_size % 2 != 0:\n",
        "            raise Exception(\"Latent size for VAEEncoder must be even\")\n",
        "        super().__init__(latent_size)\n",
        "\n",
        "\n",
        "def vae_split(latent):\n",
        "    size = latent.shape[1] // 2\n",
        "    mu = latent[:, :size]\n",
        "    log_var = latent[:, size:]\n",
        "    return mu, log_var\n",
        "\n",
        "\n",
        "def vae_reparametrize(mu, log_var):\n",
        "    sigma = torch.exp(0.5 * log_var)\n",
        "    eps = torch.randn(mu.shape[0], mu.shape[1]).to(device)\n",
        "    return eps * sigma + mu\n",
        "\n",
        "\n",
        "def vae_pass_handler(encoder, decoder, data, *args, **kwargs):\n",
        "    latent = encoder(data)\n",
        "    mu, log_var = vae_split(latent)\n",
        "    sample = vae_reparametrize(mu, log_var)\n",
        "    recon = decoder(sample)\n",
        "    return latent, recon\n",
        "\n",
        "\n",
        "\n",
        "def ae_pass_handler(encoder, decoder, data, *args, **kwargs):\n",
        "    latent = encoder(data)\n",
        "    recon = decoder(latent)\n",
        "    return latent, recon\n",
        "\n",
        "\n",
        "\n",
        "def kld_loss(mu, log_var):\n",
        "    var = log_var.exp()\n",
        "    kl_loss = torch.mean(-0.5 * torch.sum(log_var - var - mu**2 + 1, dim=1), dim=0)\n",
        "    return kl_loss\n",
        "\n",
        "\n",
        "def vae_loss_handler(data, recon, latent, kld_weight=0.5, *args, **kwargs):\n",
        "    mu, log_var = vae_split(latent)\n",
        "    kl_loss = kld_loss(mu, log_var)\n",
        "    loss = F.binary_cross_entropy(recon, data) + kld_weight * kl_loss\n",
        "    return loss\n",
        "\n",
        "\n",
        "\n",
        "\n",
        "def ae_loss_handler(data, recon, *args, **kwargs):\n",
        "    loss = F.mse_loss(recon, data)\n",
        "    #loss = F.binary_cross_entropy(recon, data)\n",
        "    return loss"
      ]
    },
    {
      "cell_type": "markdown",
      "id": "3d5d1d71",
      "metadata": {
        "id": "3d5d1d71"
      },
      "source": [
        "## 2.3. Обучение"
      ]
    },
    {
      "cell_type": "code",
      "execution_count": null,
      "id": "62fa2dc3",
      "metadata": {
        "id": "62fa2dc3"
      },
      "outputs": [],
      "source": [
        "device = torch.device('cuda' if torch.cuda.is_available() else 'cpu')\n",
        "print('Using device:', device)\n",
        "\n",
        "def run_eval(\n",
        "    encoder,\n",
        "    decoder,\n",
        "    loader,\n",
        "    single_pass_handler,\n",
        "    return_real=True,\n",
        "    return_recon=True,\n",
        "    return_latent=True,\n",
        "    return_labels=True,\n",
        "    return_idx=True,\n",
        "):\n",
        "    if return_real:\n",
        "        real_list = []\n",
        "    if return_recon:\n",
        "        recon_list = []\n",
        "    if return_latent:\n",
        "        latent_list = []\n",
        "    if return_labels:\n",
        "        labels_list = []\n",
        "    if return_idx:\n",
        "        labels_idx = []\n",
        "    with torch.no_grad():\n",
        "        for batch_idx, (idx, data, labels) in enumerate(loader):\n",
        "            if return_idx:\n",
        "                labels_idx.append(idx.numpy())\n",
        "            if return_labels:\n",
        "                labels_list.append(labels.numpy())\n",
        "            if return_real:\n",
        "                real_list.append(data.numpy())\n",
        "\n",
        "            idx = idx.to(device)\n",
        "            data = data.to(device)\n",
        "            labels = labels.to(device)\n",
        "            latent, recon = single_pass_handler(encoder, decoder, data, labels)\n",
        "\n",
        "            if return_latent:\n",
        "                latent_list.append(latent.cpu().numpy())\n",
        "            if return_recon:\n",
        "                recon_list.append(recon.cpu().numpy())\n",
        "\n",
        "    result = {}\n",
        "    if return_real:\n",
        "        real = np.concatenate(real_list)\n",
        "        result[\"real\"] = real.squeeze()\n",
        "    if return_latent:\n",
        "        latent = np.concatenate(latent_list)\n",
        "        result[\"latent\"] = latent\n",
        "    if return_recon:\n",
        "        recon = np.concatenate(recon_list)\n",
        "        result[\"recon\"] = recon.squeeze()\n",
        "    if return_labels:\n",
        "        labels = np.concatenate(labels_list)\n",
        "        result[\"labels\"] = labels\n",
        "    if return_idx:\n",
        "        idx = np.concatenate(labels_idx)\n",
        "        result[\"idx\"] = idx\n",
        "    return result"
      ]
    },
    {
      "cell_type": "code",
      "execution_count": null,
      "id": "63c128c2",
      "metadata": {
        "id": "63c128c2"
      },
      "outputs": [],
      "source": [
        "def train_and_save(epochs,\n",
        "    encoder,\n",
        "    decoder,\n",
        "    train_loader,\n",
        "    val_loader,\n",
        "    dataloader,\n",
        "    single_pass_handler,\n",
        "    loss_handler,\n",
        "    latent_size,\n",
        "    learning_rate,\n",
        "    path_for_save,\n",
        "    log_interval=1\n",
        "):\n",
        "\n",
        "\n",
        "    torch.manual_seed(42)\n",
        "\n",
        "    ep_array = []\n",
        "    train_loss_array = []\n",
        "    val_loss_array = []\n",
        "    test_loss_array = []\n",
        "\n",
        "\n",
        "    if encoder==VAEEncoder:\n",
        "        encoder = encoder(latent_size=2*latent_size)\n",
        "    else:\n",
        "        encoder = encoder(latent_size=latent_size)\n",
        "    decoder = decoder(latent_size=latent_size)\n",
        "\n",
        "    encoder = encoder.to(device)\n",
        "    decoder = decoder.to(device)\n",
        "\n",
        "    optimizer = optim.Adam(\n",
        "        chain(encoder.parameters(), decoder.parameters()), lr=learning_rate\n",
        "    )\n",
        "\n",
        "    loader=train_loader\n",
        "    val_loader=val_loader\n",
        "\n",
        "    for ep in range(0, epochs):\n",
        "        current_train_loss = 0\n",
        "        for train_batch_idx, (idx, data, labels) in enumerate(loader):\n",
        "            batch_size = data.size(0)\n",
        "            optimizer.zero_grad()\n",
        "            data = data.to(device)\n",
        "            labels = labels.to(device)\n",
        "\n",
        "            latent, recon = single_pass_handler(\n",
        "                encoder, decoder, data, labels\n",
        "            )\n",
        "\n",
        "            loss = loss_handler(data, recon, latent)\n",
        "            loss.backward()\n",
        "            optimizer.step()\n",
        "\n",
        "            current_train_loss += loss.item()\n",
        "\n",
        "\n",
        "        current_val_loss = 0\n",
        "        for val_batch_idx, (idx, data_val, labels_val) in enumerate(val_loader):\n",
        "            encoder = encoder.eval()\n",
        "            decoder = decoder.eval()\n",
        "\n",
        "\n",
        "            data_val = data_val.to(device)\n",
        "            labels_val = labels_val.to(device)\n",
        "            latent_val, recon_val = single_pass_handler(\n",
        "                encoder, decoder, data_val, labels_val\n",
        "            )\n",
        "\n",
        "\n",
        "            loss_val = loss_handler(data_val, recon_val, latent_val)\n",
        "\n",
        "            current_val_loss += loss_val.item()\n",
        "\n",
        "        ep_array.append(ep)\n",
        "        train_loss_array.append(current_train_loss / (train_batch_idx + 1))\n",
        "        val_loss_array.append(current_val_loss / (val_batch_idx + 1))\n",
        "\n",
        "        if ep%log_interval==0:\n",
        "            print(f\"Train Epoch: {ep}:   Loss_train: {train_loss_array[-1]:.6f}   Loss_val: {val_loss_array[-1]:.6f}\")\n",
        "\n",
        "    current_test_loss = 0\n",
        "    for test_batch_idx, (idx, data_test, labels_test) in enumerate(test_dataloader):\n",
        "        encoder = encoder.eval()\n",
        "        decoder = decoder.eval()\n",
        "\n",
        "\n",
        "        data_test = data_test.to(device)\n",
        "        labels_test = labels_test.to(device)\n",
        "        latent_test, recon_test = single_pass_handler(\n",
        "            encoder, decoder, data_test, labels_test\n",
        "        )\n",
        "\n",
        "\n",
        "        loss_test = loss_handler(data_test, recon_test, latent_test)\n",
        "        current_test_loss += loss_test.item()\n",
        "\n",
        "\n",
        "    test_loss = (current_test_loss / (test_batch_idx + 1))\n",
        "    print(f\"Test_loss: {test_loss:.6f} learning_rate: {learning_rate:.6f} latent_size: {latent_size:.0f}\")\n",
        "\n",
        "    plt.plot(ep_array, train_loss_array)\n",
        "    plt.plot(ep_array, val_loss_array)\n",
        "    plt.legend([\"train\", \"val\"])\n",
        "    plt.title([\"latent_size: {:.0f}\".format(latent_size), \"learning_rate:{}\".format(learning_rate)])\n",
        "    plt.yscale(\"log\")\n",
        "    plt.ylim(0.07, 0.12)\n",
        "    plt.show()\n",
        "\n",
        "    encoder = encoder.eval()\n",
        "    decoder = decoder.eval()\n",
        "\n",
        "\n",
        "    run_res = run_eval(encoder, decoder, dataloader, single_pass_handler)\n",
        "\n",
        "    os.makedirs(path_for_save, exist_ok=True)\n",
        "\n",
        "    for idx in run_res[\"idx\"]:\n",
        "        Z_recon = run_res[\"recon\"][idx].T\n",
        "        pd.DataFrame(Z_recon).to_csv(path_for_save+'/'+str(idx+1001)+'.csv') #index=False\n"
      ]
    },
    {
      "cell_type": "code",
      "execution_count": null,
      "id": "bb843447",
      "metadata": {
        "id": "bb843447"
      },
      "outputs": [],
      "source": [
        "train_and_save(epochs = 1000,\n",
        "    encoder = VAEEncoder,\n",
        "    decoder = Decoder,\n",
        "    train_loader = train_dataloader,\n",
        "    val_loader = validation_dataloader,\n",
        "    dataloader = dataloader,\n",
        "    single_pass_handler = vae_pass_handler,\n",
        "    loss_handler = vae_loss_handler,\n",
        "    latent_size = 300,\n",
        "    learning_rate = 0.002,\n",
        "    path_for_save = '2D_CNN_gen',\n",
        "    log_interval=100\n",
        ")"
      ]
    },
    {
      "cell_type": "markdown",
      "id": "4fc9fd53",
      "metadata": {
        "id": "4fc9fd53"
      },
      "source": [
        "# III. Определяем концентрацию ионов и рН в сгенерированных спектрах"
      ]
    },
    {
      "cell_type": "code",
      "execution_count": null,
      "id": "36bdb164",
      "metadata": {
        "id": "36bdb164",
        "outputId": "1917d5ee-1273-4ab5-b0c1-c5806f9a7b18"
      },
      "outputs": [
        {
          "data": {
            "text/plain": [
              "twoD_CNN(\n",
              "  (conv1): Conv2d(1, 6, kernel_size=(5, 5), stride=(1, 1))\n",
              "  (pool): MaxPool2d(kernel_size=2, stride=2, padding=0, dilation=1, ceil_mode=False)\n",
              "  (conv2): Conv2d(6, 16, kernel_size=(5, 5), stride=(1, 1))\n",
              "  (fc1): Linear(in_features=10528, out_features=160, bias=True)\n",
              "  (fc2): Linear(in_features=160, out_features=5, bias=True)\n",
              ")"
            ]
          },
          "execution_count": 33,
          "metadata": {},
          "output_type": "execute_result"
        }
      ],
      "source": [
        "model_check = twoD_CNN()\n",
        "\n",
        "path = '2D_CNN/split_42_12/0/'\n",
        "checkpoint = torch.load(path + 'model_2D_CNN'+'.pth')\n",
        "model_check.load_state_dict(checkpoint['model_state_dict'])\n",
        "\n",
        "optimizer = optim.Adam(model.parameters(), lr=0.002)\n",
        "\n",
        "#load optimizer\n",
        "optimizer.load_state_dict(checkpoint['optimizer_state_dict'])\n",
        "\n",
        "last_best_epoch = checkpoint['epoch']\n",
        "loss = checkpoint['loss']\n",
        "model_check.eval()"
      ]
    },
    {
      "cell_type": "code",
      "execution_count": null,
      "id": "f3557e1f",
      "metadata": {
        "id": "f3557e1f"
      },
      "outputs": [],
      "source": [
        "file_x = '2D_CNN_gen'\n",
        "file_y = 'CD_HM_dataset/Y_ions.csv'\n",
        "\n",
        "data =  CDs_2D_dataset(file_y, file_x)\n",
        "\n",
        "dataloader = DataLoader(data, batch_size=1000, shuffle=False)"
      ]
    },
    {
      "cell_type": "code",
      "execution_count": null,
      "id": "c37e3afa",
      "metadata": {
        "id": "c37e3afa"
      },
      "outputs": [],
      "source": [
        "for specs, labels in dataloader:\n",
        "    outputs = model(specs)\n",
        "    outputs[outputs<0]=0 #we zero negative outputs as they are impossible for concentration values\n",
        "    ae = outputs.detach().numpy()\n",
        "    ae_true = labels.detach().numpy()\n",
        "\n",
        "a = ['Cu','Ni','Cr','NO3', 'pH']\n",
        "split_path = '2D_CNN_gen/'\n",
        "\n",
        "pd.DataFrame(ae).to_csv(split_path + 'Y_out'+'.csv',sep=',', header = a)\n",
        "pd.DataFrame(ae_true).to_csv(split_path + 'Y_out_true'+'.csv',sep=',', header = a)"
      ]
    },
    {
      "cell_type": "markdown",
      "id": "7c8b4ac7",
      "metadata": {
        "id": "7c8b4ac7"
      },
      "source": [
        "# IV. Обучение новой модели на расширенном наборе данных"
      ]
    },
    {
      "cell_type": "code",
      "source": [
        "# создадим новую папку, в которой будут все спектры\n",
        "os.makedirs('2D_CNN_gen_and_origin', exist_ok=True)\n",
        "# скопируем в эту папку сгенерированные спектры\n",
        "shutil.copy('2D_CNN_gen', '2D_CNN_gen_and_origin', follow_symlinks=True)"
      ],
      "metadata": {
        "id": "F4Bl14IHY-si"
      },
      "id": "F4Bl14IHY-si",
      "execution_count": null,
      "outputs": []
    },
    {
      "cell_type": "code",
      "source": [
        "# скопируем в эту папку реальные спектры\n",
        "files=glob.glob('CD_HM_dataset/*.csv')\n",
        "\n",
        "for i in trange(len(files)):\n",
        "    df=pd.read_csv(files[i], skiprows=38,sep=';', decimal=',').iloc[6:-8,125:325]/4544.595\n",
        "    df.to_csv('2D_CNN_gen_and_origin'+'/'+files[i][14:-19]+'.csv')"
      ],
      "metadata": {
        "id": "OqGMH6YbY-w3"
      },
      "id": "OqGMH6YbY-w3",
      "execution_count": null,
      "outputs": []
    },
    {
      "cell_type": "code",
      "source": [
        "# создадим в этой папке таблицу с таргетами\n",
        "Y_out = pd.read_csv('2D_CNN_gen/Y_out.csv')\n",
        "Y_out_true = pd.read_csv('2D_CNN_gen/Y_out_true.csv')\n",
        "pd.concat([\n",
        "    Y_out,\n",
        "    Y_out_true\n",
        "]).to_csv('2D_CNN_gen_and_origin/Y.csv')"
      ],
      "metadata": {
        "id": "vJOpl23qbXwh"
      },
      "id": "vJOpl23qbXwh",
      "execution_count": null,
      "outputs": []
    },
    {
      "cell_type": "code",
      "execution_count": null,
      "id": "98d28522",
      "metadata": {
        "id": "98d28522"
      },
      "outputs": [],
      "source": [
        "\n",
        "\n",
        "gen_path = ''\n",
        "\n",
        "case_name = '2D_CNN_gen_and_origin'\n",
        "cnn_2d_path = case_name+'/'\n",
        "\n",
        "Y = pd.read_csv(gen_path+cnn_2d_path+'Y.csv', sep=',')\n",
        "\n",
        "\n",
        "k_folds = [[42,12],[612,45],[72,172]]\n",
        "\n",
        "\n",
        "for fold in k_folds:\n",
        "    split_path = gen_path+cnn_2d_path+'split_'+ str(fold[0])+'_'+str(fold[1])+ '/'\n",
        "    os.makedirs(split_path, exist_ok=True)\n",
        "\n",
        "    Y_trn, Y_vld = train_test_split(Y, test_size=0.1, random_state=fold[0])\n",
        "\n",
        "    a = ['sample_number','Cu','Ni','Cr','NO3', 'pH']\n",
        "\n",
        "    pd.DataFrame(Y_trn).to_csv(split_path + 'Y_trn'+'.csv',sep=',', index=False, header = a)\n",
        "    pd.DataFrame(Y_vld).to_csv(split_path + 'Y_vld'+'.csv',sep=',', index=False, header = a)\n",
        "    pd.DataFrame(Y_tst).to_csv(split_path + 'Y_tst'+'.csv',sep=',', index=False, header = a)"
      ]
    },
    {
      "cell_type": "code",
      "execution_count": null,
      "id": "b19f19a8",
      "metadata": {
        "id": "b19f19a8"
      },
      "outputs": [],
      "source": [
        "class CDS_2D_Dataset_generated(Dataset):\n",
        "    def __init__(self, annotations_file, spec_dir):\n",
        "      '''annotations_file - the file which contains lables of the samples included in training/validation/test sets'''\n",
        "      self.spec_labels = pd.read_csv(annotations_file, sep=',', decimal=\",\").iloc[:,1:] # labels (concentrations for 4 ions) for all the samples from annotation file (Y_ions.csv)\n",
        "      self.spec_number = pd.read_csv(annotations_file, sep=',', decimal=\",\").iloc[:,0] # numbers for all the samples from annotation file (Y_ions.csv)\n",
        "      self.spec_dir = spec_dir # folder where csv files are located\n",
        "\n",
        "    def __len__(self):\n",
        "        return len(self.spec_labels)#length of the dataset\n",
        "\n",
        "    def __getitem__(self, idx):\n",
        "        label = self.spec_labels.iloc[idx] # get the label of the sample via sample's index\n",
        "\n",
        "        sp = np.array(pd.read_csv(self.spec_dir + str(self.spec_number[idx])+'.csv').iloc[:, 1:].T , dtype='float32')# get the EEM of the sample via sample's index\n",
        "\n",
        "        sp[sp<0]=0 # here we zero negative values of intensities\n",
        "        spec = torch.from_numpy(sp).unsqueeze(0) # add dimension for channels of cnn\n",
        "\n",
        "        return spec, torch.from_numpy(np.array(label, dtype='float32')) # return spectrum and corresponding labels\n"
      ]
    },
    {
      "cell_type": "code",
      "execution_count": null,
      "id": "df00b2d0",
      "metadata": {
        "id": "df00b2d0",
        "outputId": "cfe33181-1c0b-4451-c453-b65abdefecf6"
      },
      "outputs": [
        {
          "name": "stdout",
          "output_type": "stream",
          "text": [
            "Using device: mps\n",
            "Reset trainable parameters of layer = Conv2d(1, 6, kernel_size=(5, 5), stride=(1, 1))\n",
            "Reset trainable parameters of layer = Conv2d(6, 16, kernel_size=(5, 5), stride=(1, 1))\n",
            "Reset trainable parameters of layer = Linear(in_features=10528, out_features=160, bias=True)\n",
            "Reset trainable parameters of layer = Linear(in_features=160, out_features=5, bias=True)\n",
            "4900 0 [42, 12]\n",
            "Reset trainable parameters of layer = Conv2d(1, 6, kernel_size=(5, 5), stride=(1, 1))\n",
            "Reset trainable parameters of layer = Conv2d(6, 16, kernel_size=(5, 5), stride=(1, 1))\n",
            "Reset trainable parameters of layer = Linear(in_features=10528, out_features=160, bias=True)\n",
            "Reset trainable parameters of layer = Linear(in_features=160, out_features=5, bias=True)\n",
            "4900 1 [42, 12]\n",
            "Reset trainable parameters of layer = Conv2d(1, 6, kernel_size=(5, 5), stride=(1, 1))\n",
            "Reset trainable parameters of layer = Conv2d(6, 16, kernel_size=(5, 5), stride=(1, 1))\n",
            "Reset trainable parameters of layer = Linear(in_features=10528, out_features=160, bias=True)\n",
            "Reset trainable parameters of layer = Linear(in_features=160, out_features=5, bias=True)\n",
            "4900 0 [612, 45]\n",
            "Reset trainable parameters of layer = Conv2d(1, 6, kernel_size=(5, 5), stride=(1, 1))\n",
            "Reset trainable parameters of layer = Conv2d(6, 16, kernel_size=(5, 5), stride=(1, 1))\n",
            "Reset trainable parameters of layer = Linear(in_features=10528, out_features=160, bias=True)\n",
            "Reset trainable parameters of layer = Linear(in_features=160, out_features=5, bias=True)\n",
            "4900 1 [612, 45]\n",
            "Reset trainable parameters of layer = Conv2d(1, 6, kernel_size=(5, 5), stride=(1, 1))\n",
            "Reset trainable parameters of layer = Conv2d(6, 16, kernel_size=(5, 5), stride=(1, 1))\n",
            "Reset trainable parameters of layer = Linear(in_features=10528, out_features=160, bias=True)\n",
            "Reset trainable parameters of layer = Linear(in_features=160, out_features=5, bias=True)\n",
            "4900 0 [72, 172]\n",
            "Reset trainable parameters of layer = Conv2d(1, 6, kernel_size=(5, 5), stride=(1, 1))\n",
            "Reset trainable parameters of layer = Conv2d(6, 16, kernel_size=(5, 5), stride=(1, 1))\n",
            "Reset trainable parameters of layer = Linear(in_features=10528, out_features=160, bias=True)\n",
            "Reset trainable parameters of layer = Linear(in_features=160, out_features=5, bias=True)\n",
            "4900 1 [72, 172]\n"
          ]
        }
      ],
      "source": [
        "#device = torch.device('mps')\n",
        "device = torch.device('cuda' if torch.cuda.is_available() else 'cpu')\n",
        "print('Using device:', device)\n",
        "\n",
        "model = twoD_CNN()\n",
        "\n",
        "loss_function = torch.nn.MSELoss().cuda()\n",
        "optimizer = optim.Adam(model.parameters(), lr=0.002)\n",
        "case_name = '2D_CNN_gen_and_origin'\n",
        "\n",
        "for fold in k_folds:\n",
        "\n",
        "    cnn_2d_path = case_name+'/'\n",
        "    split_path = gen_path+cnn_2d_path+'split_'+ str(fold[0])+'_'+str(fold[1])+ '/'\n",
        "\n",
        "\n",
        "    training_data = CDS_2D_Dataset_generated(split_path+'Y_trn'+'.csv', gen_path + case_name)\n",
        "    validation_data = CDS_2D_Dataset_generated(split_path+'Y_vld'+'.csv', gen_path + case_name)\n",
        "    test_data = CDS_2D_Dataset_generated(split_path+'Y_tst'+'.csv', gen_path + case_name)\n",
        "\n",
        "    train_dataloader = DataLoader(training_data, batch_size=64, shuffle=True)\n",
        "    validation_dataloader = DataLoader(validation_data, batch_size=64, shuffle=True)\n",
        "    test_dataloader = DataLoader(test_data, batch_size=64, shuffle=True)\n",
        "\n",
        "\n",
        "    for init_number in range(0,2):\n",
        "\n",
        "      init_path = split_path + str(init_number)+'/'\n",
        "      os.makedirs(init_path, exist_ok=True)\n",
        "\n",
        "      test_stop = 100\n",
        "      max_val_loss = 10000.0\n",
        "\n",
        "      split_name = 'split_'+ str(fold[0])+'_'+str(fold[1])\n",
        "      init_name = '_' + str(init_number)\n",
        "      model_name = '_2D_CNN'\n",
        "\n",
        "\n",
        "      for epoch_step in range(0, 5000, test_stop):\n",
        "\n",
        "          if epoch_step!=0:\n",
        "              checkpoint = torch.load(init_path + 'model'+model_name+'.pth')\n",
        "              model.load_state_dict(checkpoint['model_state_dict'])\n",
        "              optimizer.load_state_dict(checkpoint['optimizer_state_dict'])\n",
        "              last_best_epoch = checkpoint['epoch']\n",
        "              loss = checkpoint['loss']\n",
        "              model.train()\n",
        "\n",
        "              if last_best_epoch + test_stop > ep:\n",
        "                  for ep in range(epoch_step, epoch_step+test_stop):\n",
        "                      for _, data in enumerate(train_dataloader, 0):\n",
        "                          inputs, labels = data\n",
        "                          optimizer.zero_grad()\n",
        "                          outputs = model(inputs)\n",
        "                          loss = loss_function(outputs, labels)\n",
        "                          loss.backward()\n",
        "                          optimizer.step()\n",
        "\n",
        "                      dl = 0\n",
        "                      val_loss = 0.0\n",
        "                      for specs, labels in validation_dataloader:\n",
        "                          val_loss += loss_function(model(specs),labels)\n",
        "                          dl+=1\n",
        "                      val_loss = val_loss/dl\n",
        "\n",
        "\n",
        "\n",
        "                      if val_loss.item() <= max_val_loss:\n",
        "                          torch.save({'epoch': ep,\n",
        "                            'model_state_dict': model.state_dict(),\n",
        "                            'optimizer_state_dict': optimizer.state_dict(),\n",
        "                            'loss': loss}, init_path + 'model'+model_name+'.pth')\n",
        "                          max_val_loss = val_loss.item()\n",
        "              else: continue\n",
        "\n",
        "          if epoch_step==0:\n",
        "              model.apply(reset_weights)\n",
        "\n",
        "              for ep in range(epoch_step, test_stop):\n",
        "                  for _, data in enumerate(train_dataloader, 0):\n",
        "                      inputs, labels = data\n",
        "                      optimizer.zero_grad()\n",
        "                      outputs = model(inputs)\n",
        "                      loss = loss_function(outputs, labels)\n",
        "                      loss.backward()\n",
        "                      optimizer.step()\n",
        "\n",
        "                  dl = 0\n",
        "                  val_loss = 0.0\n",
        "                  for specs, labels in validation_dataloader:\n",
        "                      val_loss += loss_function(model(specs),labels)\n",
        "                      dl+=1\n",
        "                  val_loss = val_loss/dl\n",
        "\n",
        "                  if val_loss.item() <= max_val_loss:\n",
        "                      torch.save({'epoch': ep,\n",
        "                        'model_state_dict': model.state_dict(),\n",
        "                        'optimizer_state_dict': optimizer.state_dict(),\n",
        "                        'loss': loss}, init_path + 'model'+model_name+'.pth')\n",
        "                      max_val_loss = val_loss.item()\n",
        "\n",
        "\n",
        "      write_predictions(model, model_name, init_path, train_dataloader, dset = 'trn')\n",
        "      write_predictions(model, model_name, init_path, validation_dataloader, dset ='vld')\n",
        "      write_predictions(model, model_name, init_path, test_dataloader, dset ='tst')\n",
        "\n",
        "\n",
        "      print(epoch_step, init_number, fold)"
      ]
    },
    {
      "cell_type": "code",
      "execution_count": null,
      "id": "dbf19083",
      "metadata": {
        "id": "dbf19083"
      },
      "outputs": [],
      "source": [
        "cu_errors_gen = []\n",
        "ni_errors_gen = []\n",
        "cr_errors_gen = []\n",
        "no3_errors_gen = []\n",
        "ph_errors_gen = []\n",
        "\n",
        "mnozh_init = []\n",
        "folds = []\n",
        "\n",
        "for fold in k_folds:\n",
        "    for i in range(0, 2):\n",
        "\n",
        "        path_true_tst_gen = case_name + '/split_' + str(fold[0])+'_'+str(fold[1])+ '/' + str(i) + '/Y_true__tst.csv'\n",
        "        Y_true_tst_gen = pd.read_csv(path_true_tst_gen)\n",
        "\n",
        "        path_out_tst_gen = case_name + '/split_' + str(fold[0])+'_'+str(fold[1])+ '/' + str(i) + '/Y_out__tst.csv'\n",
        "        Y_out_tst_gen = pd.read_csv(path_out_tst_gen)\n",
        "\n",
        "        cu_err = np.mean(sklearn.metrics.mean_absolute_error(Y_true_tst_gen['Cu'], Y_out_tst_gen['Cu']))\n",
        "        ni_erar = np.mean(sklearn.metrics.mean_absolute_error(Y_true_tst_gen['Ni'], Y_out_tst_gen['Ni']))\n",
        "        cr_err = np.mean(sklearn.metrics.mean_absolute_error(Y_true_tst_gen['Cr'], Y_out_tst_gen['Cr']))\n",
        "        no3_err = np.mean(sklearn.metrics.mean_absolute_error(Y_true_tst_gen['NO3'], Y_out_tst_gen['NO3']))\n",
        "        ph_err = np.mean(sklearn.metrics.mean_absolute_error(Y_true_tst_gen['pH'], Y_out_tst_gen['pH']))\n",
        "\n",
        "\n",
        "        cu_errors_gen.append(cu_err)\n",
        "        ni_errors_gen.append(ni_err)\n",
        "        cr_errors_gen.append(cr_err)\n",
        "        no3_errors_gen.append(no3_err)\n",
        "        ph_errors_gen.append(ph_err)\n",
        "\n",
        "        mnozh_init.append(i)\n",
        "        folds.append(fold)\n",
        "\n"
      ]
    },
    {
      "cell_type": "code",
      "execution_count": null,
      "id": "431865f5",
      "metadata": {
        "id": "431865f5",
        "outputId": "f3d743aa-74d3-454d-83e4-3ef217540921"
      },
      "outputs": [
        {
          "data": {
            "image/png": "[encoded data removed]",
            "text/plain": [
              "<Figure size 640x480 with 1 Axes>"
            ]
          },
          "metadata": {},
          "output_type": "display_data"
        }
      ],
      "source": [
        "species = (r'$Cu^2$', r'$Ni^2$', r'$Cr^3$', r'$NO_3$', \"pH\")\n",
        "penguin_means = {\n",
        "    'Экспериментальные спектры': (np.round(np.mean(cu_errors), 2), np.round(np.mean(ni_errors), 2), np.round(np.mean(cr_errors), 2), np.round(np.mean(no3_errors), 2), np.round(np.mean(ph_errors), 2)),\n",
        "    'Экспериментальные + сгенерированные': (np.round(np.mean(cu_errors_gen), 2), np.round(np.mean(ni_errors_gen), 2), np.round(np.mean(cr_errors_gen), 2), np.round(np.mean(no3_errors_gen), 2), np.round(np.mean(ph_errors_gen), 2)\n",
        "),\n",
        "}\n",
        "\n",
        "x = np.arange(len(species))\n",
        "width = 0.25\n",
        "multiplier = 1\n",
        "\n",
        "fig, ax = plt.subplots(layout='constrained')\n",
        "\n",
        "for attribute, measurement in penguin_means.items():\n",
        "    offset = width * multiplier\n",
        "    rects = ax.bar(x + offset, measurement, width, label=attribute, yerr = [np.round(np.std(cu_errors), 2), np.round(np.std(ni_errors), 2)/2, np.round(np.std(cr_errors), 2), np.round(np.std(no3_errors)/3, 2), np.round(np.std(ph_errors), 2)])\n",
        "    ax.bar_label(rects, padding=3)\n",
        "    multiplier += 1\n",
        "\n",
        "ax.set_ylabel('MAE (mM)')\n",
        "ax.set_xticks(x + width, species)\n",
        "ax.legend(loc='upper left', ncols=3)\n",
        "ax.set_ylim(0, 2.2)\n",
        "\n",
        "plt.show()"
      ]
    },
    {
      "cell_type": "code",
      "execution_count": null,
      "id": "d9f44d15",
      "metadata": {
        "id": "d9f44d15"
      },
      "outputs": [],
      "source": []
    }
  ],
  "metadata": {
    "kernelspec": {
      "display_name": "Python 3",
      "name": "python3"
    },
    "language_info": {
      "codemirror_mode": {
        "name": "ipython",
        "version": 3
      },
      "file_extension": ".py",
      "mimetype": "text/x-python",
      "name": "python",
      "nbconvert_exporter": "python",
      "pygments_lexer": "ipython3",
      "version": "3.11.4"
    },
    "colab": {
      "provenance": [],
      "gpuType": "T4",
      "include_colab_link": true
    },
    "accelerator": "GPU"
  },
  "nbformat": 4,
  "nbformat_minor": 5
}